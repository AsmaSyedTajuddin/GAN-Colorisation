{
  "nbformat": 4,
  "nbformat_minor": 0,
  "metadata": {
    "kernelspec": {
      "display_name": "Python 3",
      "language": "python",
      "name": "python3"
    },
    "language_info": {
      "codemirror_mode": {
        "name": "ipython",
        "version": 3
      },
      "file_extension": ".py",
      "mimetype": "text/x-python",
      "name": "python",
      "nbconvert_exporter": "python",
      "pygments_lexer": "ipython3",
      "version": "3.7.7"
    },
    "toc": {
      "base_numbering": 1,
      "nav_menu": {},
      "number_sections": true,
      "sideBar": true,
      "skip_h1_title": false,
      "title_cell": "Table of Contents",
      "title_sidebar": "Contents",
      "toc_cell": false,
      "toc_position": {},
      "toc_section_display": true,
      "toc_window_display": false
    },
    "varInspector": {
      "cols": {
        "lenName": 16,
        "lenType": 16,
        "lenVar": 40
      },
      "kernels_config": {
        "python": {
          "delete_cmd_postfix": "",
          "delete_cmd_prefix": "del ",
          "library": "var_list.py",
          "varRefreshCmd": "print(var_dic_list())"
        },
        "r": {
          "delete_cmd_postfix": ") ",
          "delete_cmd_prefix": "rm(",
          "library": "var_list.r",
          "varRefreshCmd": "cat(var_dic_list()) "
        }
      },
      "types_to_exclude": [
        "module",
        "function",
        "builtin_function_or_method",
        "instance",
        "_Feature"
      ],
      "window_display": false
    },
    "colab": {
      "name": "gan_colorization.ipynb",
      "provenance": [],
      "collapsed_sections": []
    },
    "widgets": {
      "application/vnd.jupyter.widget-state+json": {
        "0cc86d94cb6a4c3bbb5c3adf0ddcdbb2": {
          "model_module": "@jupyter-widgets/controls",
          "model_name": "HBoxModel",
          "state": {
            "_view_name": "HBoxView",
            "_dom_classes": [],
            "_model_name": "HBoxModel",
            "_view_module": "@jupyter-widgets/controls",
            "_model_module_version": "1.5.0",
            "_view_count": null,
            "_view_module_version": "1.5.0",
            "box_style": "",
            "layout": "IPY_MODEL_48d6ff5140dd4ce189fdf201df8645e6",
            "_model_module": "@jupyter-widgets/controls",
            "children": [
              "IPY_MODEL_79d82bacabb24795ab369f462531c99c",
              "IPY_MODEL_57001d7f072849059e3b8b2a2a40e4f7"
            ]
          }
        },
        "48d6ff5140dd4ce189fdf201df8645e6": {
          "model_module": "@jupyter-widgets/base",
          "model_name": "LayoutModel",
          "state": {
            "_view_name": "LayoutView",
            "grid_template_rows": null,
            "right": null,
            "justify_content": null,
            "_view_module": "@jupyter-widgets/base",
            "overflow": null,
            "_model_module_version": "1.2.0",
            "_view_count": null,
            "flex_flow": null,
            "width": null,
            "min_width": null,
            "border": null,
            "align_items": null,
            "bottom": null,
            "_model_module": "@jupyter-widgets/base",
            "top": null,
            "grid_column": null,
            "overflow_y": null,
            "overflow_x": null,
            "grid_auto_flow": null,
            "grid_area": null,
            "grid_template_columns": null,
            "flex": null,
            "_model_name": "LayoutModel",
            "justify_items": null,
            "grid_row": null,
            "max_height": null,
            "align_content": null,
            "visibility": null,
            "align_self": null,
            "height": null,
            "min_height": null,
            "padding": null,
            "grid_auto_rows": null,
            "grid_gap": null,
            "max_width": null,
            "order": null,
            "_view_module_version": "1.2.0",
            "grid_template_areas": null,
            "object_position": null,
            "object_fit": null,
            "grid_auto_columns": null,
            "margin": null,
            "display": null,
            "left": null
          }
        },
        "79d82bacabb24795ab369f462531c99c": {
          "model_module": "@jupyter-widgets/controls",
          "model_name": "FloatProgressModel",
          "state": {
            "_view_name": "ProgressView",
            "style": "IPY_MODEL_741879a2ab7740e4aad60ab3f17301b6",
            "_dom_classes": [],
            "description": "100%",
            "_model_name": "FloatProgressModel",
            "bar_style": "success",
            "max": 46827520,
            "_view_module": "@jupyter-widgets/controls",
            "_model_module_version": "1.5.0",
            "value": 46827520,
            "_view_count": null,
            "_view_module_version": "1.5.0",
            "orientation": "horizontal",
            "min": 0,
            "description_tooltip": null,
            "_model_module": "@jupyter-widgets/controls",
            "layout": "IPY_MODEL_fcda8590a50c4d228c78bb372453f04f"
          }
        },
        "57001d7f072849059e3b8b2a2a40e4f7": {
          "model_module": "@jupyter-widgets/controls",
          "model_name": "HTMLModel",
          "state": {
            "_view_name": "HTMLView",
            "style": "IPY_MODEL_a9d9902336fd4d66b90e88e5f493b301",
            "_dom_classes": [],
            "description": "",
            "_model_name": "HTMLModel",
            "placeholder": "​",
            "_view_module": "@jupyter-widgets/controls",
            "_model_module_version": "1.5.0",
            "value": " 44.7M/44.7M [00:24&lt;00:00, 1.88MB/s]",
            "_view_count": null,
            "_view_module_version": "1.5.0",
            "description_tooltip": null,
            "_model_module": "@jupyter-widgets/controls",
            "layout": "IPY_MODEL_6010d528dfe64dfaacac55be7d90df89"
          }
        },
        "741879a2ab7740e4aad60ab3f17301b6": {
          "model_module": "@jupyter-widgets/controls",
          "model_name": "ProgressStyleModel",
          "state": {
            "_view_name": "StyleView",
            "_model_name": "ProgressStyleModel",
            "description_width": "initial",
            "_view_module": "@jupyter-widgets/base",
            "_model_module_version": "1.5.0",
            "_view_count": null,
            "_view_module_version": "1.2.0",
            "bar_color": null,
            "_model_module": "@jupyter-widgets/controls"
          }
        },
        "fcda8590a50c4d228c78bb372453f04f": {
          "model_module": "@jupyter-widgets/base",
          "model_name": "LayoutModel",
          "state": {
            "_view_name": "LayoutView",
            "grid_template_rows": null,
            "right": null,
            "justify_content": null,
            "_view_module": "@jupyter-widgets/base",
            "overflow": null,
            "_model_module_version": "1.2.0",
            "_view_count": null,
            "flex_flow": null,
            "width": null,
            "min_width": null,
            "border": null,
            "align_items": null,
            "bottom": null,
            "_model_module": "@jupyter-widgets/base",
            "top": null,
            "grid_column": null,
            "overflow_y": null,
            "overflow_x": null,
            "grid_auto_flow": null,
            "grid_area": null,
            "grid_template_columns": null,
            "flex": null,
            "_model_name": "LayoutModel",
            "justify_items": null,
            "grid_row": null,
            "max_height": null,
            "align_content": null,
            "visibility": null,
            "align_self": null,
            "height": null,
            "min_height": null,
            "padding": null,
            "grid_auto_rows": null,
            "grid_gap": null,
            "max_width": null,
            "order": null,
            "_view_module_version": "1.2.0",
            "grid_template_areas": null,
            "object_position": null,
            "object_fit": null,
            "grid_auto_columns": null,
            "margin": null,
            "display": null,
            "left": null
          }
        },
        "a9d9902336fd4d66b90e88e5f493b301": {
          "model_module": "@jupyter-widgets/controls",
          "model_name": "DescriptionStyleModel",
          "state": {
            "_view_name": "StyleView",
            "_model_name": "DescriptionStyleModel",
            "description_width": "",
            "_view_module": "@jupyter-widgets/base",
            "_model_module_version": "1.5.0",
            "_view_count": null,
            "_view_module_version": "1.2.0",
            "_model_module": "@jupyter-widgets/controls"
          }
        },
        "6010d528dfe64dfaacac55be7d90df89": {
          "model_module": "@jupyter-widgets/base",
          "model_name": "LayoutModel",
          "state": {
            "_view_name": "LayoutView",
            "grid_template_rows": null,
            "right": null,
            "justify_content": null,
            "_view_module": "@jupyter-widgets/base",
            "overflow": null,
            "_model_module_version": "1.2.0",
            "_view_count": null,
            "flex_flow": null,
            "width": null,
            "min_width": null,
            "border": null,
            "align_items": null,
            "bottom": null,
            "_model_module": "@jupyter-widgets/base",
            "top": null,
            "grid_column": null,
            "overflow_y": null,
            "overflow_x": null,
            "grid_auto_flow": null,
            "grid_area": null,
            "grid_template_columns": null,
            "flex": null,
            "_model_name": "LayoutModel",
            "justify_items": null,
            "grid_row": null,
            "max_height": null,
            "align_content": null,
            "visibility": null,
            "align_self": null,
            "height": null,
            "min_height": null,
            "padding": null,
            "grid_auto_rows": null,
            "grid_gap": null,
            "max_width": null,
            "order": null,
            "_view_module_version": "1.2.0",
            "grid_template_areas": null,
            "object_position": null,
            "object_fit": null,
            "grid_auto_columns": null,
            "margin": null,
            "display": null,
            "left": null
          }
        },
        "f9600b747b0a431d9cc68c12cd04b265": {
          "model_module": "@jupyter-widgets/controls",
          "model_name": "HBoxModel",
          "state": {
            "_view_name": "HBoxView",
            "_dom_classes": [],
            "_model_name": "HBoxModel",
            "_view_module": "@jupyter-widgets/controls",
            "_model_module_version": "1.5.0",
            "_view_count": null,
            "_view_module_version": "1.5.0",
            "box_style": "",
            "layout": "IPY_MODEL_9854dbd75f5c4b5398f41b9329f5f16a",
            "_model_module": "@jupyter-widgets/controls",
            "children": [
              "IPY_MODEL_9e42234f03bd49a99c7e7d004d9015a9",
              "IPY_MODEL_fc244ed2549d47728a8a832973c34926"
            ]
          }
        },
        "9854dbd75f5c4b5398f41b9329f5f16a": {
          "model_module": "@jupyter-widgets/base",
          "model_name": "LayoutModel",
          "state": {
            "_view_name": "LayoutView",
            "grid_template_rows": null,
            "right": null,
            "justify_content": null,
            "_view_module": "@jupyter-widgets/base",
            "overflow": null,
            "_model_module_version": "1.2.0",
            "_view_count": null,
            "flex_flow": null,
            "width": null,
            "min_width": null,
            "border": null,
            "align_items": null,
            "bottom": null,
            "_model_module": "@jupyter-widgets/base",
            "top": null,
            "grid_column": null,
            "overflow_y": null,
            "overflow_x": null,
            "grid_auto_flow": null,
            "grid_area": null,
            "grid_template_columns": null,
            "flex": null,
            "_model_name": "LayoutModel",
            "justify_items": null,
            "grid_row": null,
            "max_height": null,
            "align_content": null,
            "visibility": null,
            "align_self": null,
            "height": null,
            "min_height": null,
            "padding": null,
            "grid_auto_rows": null,
            "grid_gap": null,
            "max_width": null,
            "order": null,
            "_view_module_version": "1.2.0",
            "grid_template_areas": null,
            "object_position": null,
            "object_fit": null,
            "grid_auto_columns": null,
            "margin": null,
            "display": null,
            "left": null
          }
        },
        "9e42234f03bd49a99c7e7d004d9015a9": {
          "model_module": "@jupyter-widgets/controls",
          "model_name": "FloatProgressModel",
          "state": {
            "_view_name": "ProgressView",
            "style": "IPY_MODEL_13ad4d01942f4eae9ced33f1ea2ac0b5",
            "_dom_classes": [],
            "description": "Epoch: [1/2]:   1%",
            "_model_name": "FloatProgressModel",
            "bar_style": "danger",
            "max": 109,
            "_view_module": "@jupyter-widgets/controls",
            "_model_module_version": "1.5.0",
            "value": 1,
            "_view_count": null,
            "_view_module_version": "1.5.0",
            "orientation": "horizontal",
            "min": 0,
            "description_tooltip": null,
            "_model_module": "@jupyter-widgets/controls",
            "layout": "IPY_MODEL_752177dcecfd45bfade6a2db1dde7e85"
          }
        },
        "fc244ed2549d47728a8a832973c34926": {
          "model_module": "@jupyter-widgets/controls",
          "model_name": "HTMLModel",
          "state": {
            "_view_name": "HTMLView",
            "style": "IPY_MODEL_cd4c7937afb147cda0fa800a6dd88b08",
            "_dom_classes": [],
            "description": "",
            "_model_name": "HTMLModel",
            "placeholder": "​",
            "_view_module": "@jupyter-widgets/controls",
            "_model_module_version": "1.5.0",
            "value": " 1/109 [02:10&lt;3:54:39, 130.37s/it]",
            "_view_count": null,
            "_view_module_version": "1.5.0",
            "description_tooltip": null,
            "_model_module": "@jupyter-widgets/controls",
            "layout": "IPY_MODEL_8076386100e7416c9f04ec67537516a1"
          }
        },
        "13ad4d01942f4eae9ced33f1ea2ac0b5": {
          "model_module": "@jupyter-widgets/controls",
          "model_name": "ProgressStyleModel",
          "state": {
            "_view_name": "StyleView",
            "_model_name": "ProgressStyleModel",
            "description_width": "initial",
            "_view_module": "@jupyter-widgets/base",
            "_model_module_version": "1.5.0",
            "_view_count": null,
            "_view_module_version": "1.2.0",
            "bar_color": null,
            "_model_module": "@jupyter-widgets/controls"
          }
        },
        "752177dcecfd45bfade6a2db1dde7e85": {
          "model_module": "@jupyter-widgets/base",
          "model_name": "LayoutModel",
          "state": {
            "_view_name": "LayoutView",
            "grid_template_rows": null,
            "right": null,
            "justify_content": null,
            "_view_module": "@jupyter-widgets/base",
            "overflow": null,
            "_model_module_version": "1.2.0",
            "_view_count": null,
            "flex_flow": null,
            "width": null,
            "min_width": null,
            "border": null,
            "align_items": null,
            "bottom": null,
            "_model_module": "@jupyter-widgets/base",
            "top": null,
            "grid_column": null,
            "overflow_y": null,
            "overflow_x": null,
            "grid_auto_flow": null,
            "grid_area": null,
            "grid_template_columns": null,
            "flex": null,
            "_model_name": "LayoutModel",
            "justify_items": null,
            "grid_row": null,
            "max_height": null,
            "align_content": null,
            "visibility": null,
            "align_self": null,
            "height": null,
            "min_height": null,
            "padding": null,
            "grid_auto_rows": null,
            "grid_gap": null,
            "max_width": null,
            "order": null,
            "_view_module_version": "1.2.0",
            "grid_template_areas": null,
            "object_position": null,
            "object_fit": null,
            "grid_auto_columns": null,
            "margin": null,
            "display": null,
            "left": null
          }
        },
        "cd4c7937afb147cda0fa800a6dd88b08": {
          "model_module": "@jupyter-widgets/controls",
          "model_name": "DescriptionStyleModel",
          "state": {
            "_view_name": "StyleView",
            "_model_name": "DescriptionStyleModel",
            "description_width": "",
            "_view_module": "@jupyter-widgets/base",
            "_model_module_version": "1.5.0",
            "_view_count": null,
            "_view_module_version": "1.2.0",
            "_model_module": "@jupyter-widgets/controls"
          }
        },
        "8076386100e7416c9f04ec67537516a1": {
          "model_module": "@jupyter-widgets/base",
          "model_name": "LayoutModel",
          "state": {
            "_view_name": "LayoutView",
            "grid_template_rows": null,
            "right": null,
            "justify_content": null,
            "_view_module": "@jupyter-widgets/base",
            "overflow": null,
            "_model_module_version": "1.2.0",
            "_view_count": null,
            "flex_flow": null,
            "width": null,
            "min_width": null,
            "border": null,
            "align_items": null,
            "bottom": null,
            "_model_module": "@jupyter-widgets/base",
            "top": null,
            "grid_column": null,
            "overflow_y": null,
            "overflow_x": null,
            "grid_auto_flow": null,
            "grid_area": null,
            "grid_template_columns": null,
            "flex": null,
            "_model_name": "LayoutModel",
            "justify_items": null,
            "grid_row": null,
            "max_height": null,
            "align_content": null,
            "visibility": null,
            "align_self": null,
            "height": null,
            "min_height": null,
            "padding": null,
            "grid_auto_rows": null,
            "grid_gap": null,
            "max_width": null,
            "order": null,
            "_view_module_version": "1.2.0",
            "grid_template_areas": null,
            "object_position": null,
            "object_fit": null,
            "grid_auto_columns": null,
            "margin": null,
            "display": null,
            "left": null
          }
        },
        "579141dfaa834ecca90f04923babf966": {
          "model_module": "@jupyter-widgets/controls",
          "model_name": "HBoxModel",
          "state": {
            "_view_name": "HBoxView",
            "_dom_classes": [],
            "_model_name": "HBoxModel",
            "_view_module": "@jupyter-widgets/controls",
            "_model_module_version": "1.5.0",
            "_view_count": null,
            "_view_module_version": "1.5.0",
            "box_style": "",
            "layout": "IPY_MODEL_8857085871514b59b0ca783800940b77",
            "_model_module": "@jupyter-widgets/controls",
            "children": [
              "IPY_MODEL_9d543153a1e64347acf5ddc23d49ff4b",
              "IPY_MODEL_90af8e8f55004363a7a934c7b6ed34c9"
            ]
          }
        },
        "8857085871514b59b0ca783800940b77": {
          "model_module": "@jupyter-widgets/base",
          "model_name": "LayoutModel",
          "state": {
            "_view_name": "LayoutView",
            "grid_template_rows": null,
            "right": null,
            "justify_content": null,
            "_view_module": "@jupyter-widgets/base",
            "overflow": null,
            "_model_module_version": "1.2.0",
            "_view_count": null,
            "flex_flow": null,
            "width": null,
            "min_width": null,
            "border": null,
            "align_items": null,
            "bottom": null,
            "_model_module": "@jupyter-widgets/base",
            "top": null,
            "grid_column": null,
            "overflow_y": null,
            "overflow_x": null,
            "grid_auto_flow": null,
            "grid_area": null,
            "grid_template_columns": null,
            "flex": null,
            "_model_name": "LayoutModel",
            "justify_items": null,
            "grid_row": null,
            "max_height": null,
            "align_content": null,
            "visibility": null,
            "align_self": null,
            "height": null,
            "min_height": null,
            "padding": null,
            "grid_auto_rows": null,
            "grid_gap": null,
            "max_width": null,
            "order": null,
            "_view_module_version": "1.2.0",
            "grid_template_areas": null,
            "object_position": null,
            "object_fit": null,
            "grid_auto_columns": null,
            "margin": null,
            "display": null,
            "left": null
          }
        },
        "9d543153a1e64347acf5ddc23d49ff4b": {
          "model_module": "@jupyter-widgets/controls",
          "model_name": "FloatProgressModel",
          "state": {
            "_view_name": "ProgressView",
            "style": "IPY_MODEL_4f8c79b7f8164059ab5b30f4e5f4ebf8",
            "_dom_classes": [],
            "description": "Epoch: [3/4]: 100%",
            "_model_name": "FloatProgressModel",
            "bar_style": "success",
            "max": 1,
            "_view_module": "@jupyter-widgets/controls",
            "_model_module_version": "1.5.0",
            "value": 1,
            "_view_count": null,
            "_view_module_version": "1.5.0",
            "orientation": "horizontal",
            "min": 0,
            "description_tooltip": null,
            "_model_module": "@jupyter-widgets/controls",
            "layout": "IPY_MODEL_e9b42b22d9614451804240854fb42959"
          }
        },
        "90af8e8f55004363a7a934c7b6ed34c9": {
          "model_module": "@jupyter-widgets/controls",
          "model_name": "HTMLModel",
          "state": {
            "_view_name": "HTMLView",
            "style": "IPY_MODEL_5375176eb96a495eb43d10995c37c681",
            "_dom_classes": [],
            "description": "",
            "_model_name": "HTMLModel",
            "placeholder": "​",
            "_view_module": "@jupyter-widgets/controls",
            "_model_module_version": "1.5.0",
            "value": " 1/1 [00:22&lt;00:00, 22.78s/it]",
            "_view_count": null,
            "_view_module_version": "1.5.0",
            "description_tooltip": null,
            "_model_module": "@jupyter-widgets/controls",
            "layout": "IPY_MODEL_08078b8f65a9405ba9fd6472b26c9169"
          }
        },
        "4f8c79b7f8164059ab5b30f4e5f4ebf8": {
          "model_module": "@jupyter-widgets/controls",
          "model_name": "ProgressStyleModel",
          "state": {
            "_view_name": "StyleView",
            "_model_name": "ProgressStyleModel",
            "description_width": "initial",
            "_view_module": "@jupyter-widgets/base",
            "_model_module_version": "1.5.0",
            "_view_count": null,
            "_view_module_version": "1.2.0",
            "bar_color": null,
            "_model_module": "@jupyter-widgets/controls"
          }
        },
        "e9b42b22d9614451804240854fb42959": {
          "model_module": "@jupyter-widgets/base",
          "model_name": "LayoutModel",
          "state": {
            "_view_name": "LayoutView",
            "grid_template_rows": null,
            "right": null,
            "justify_content": null,
            "_view_module": "@jupyter-widgets/base",
            "overflow": null,
            "_model_module_version": "1.2.0",
            "_view_count": null,
            "flex_flow": null,
            "width": null,
            "min_width": null,
            "border": null,
            "align_items": null,
            "bottom": null,
            "_model_module": "@jupyter-widgets/base",
            "top": null,
            "grid_column": null,
            "overflow_y": null,
            "overflow_x": null,
            "grid_auto_flow": null,
            "grid_area": null,
            "grid_template_columns": null,
            "flex": null,
            "_model_name": "LayoutModel",
            "justify_items": null,
            "grid_row": null,
            "max_height": null,
            "align_content": null,
            "visibility": null,
            "align_self": null,
            "height": null,
            "min_height": null,
            "padding": null,
            "grid_auto_rows": null,
            "grid_gap": null,
            "max_width": null,
            "order": null,
            "_view_module_version": "1.2.0",
            "grid_template_areas": null,
            "object_position": null,
            "object_fit": null,
            "grid_auto_columns": null,
            "margin": null,
            "display": null,
            "left": null
          }
        },
        "5375176eb96a495eb43d10995c37c681": {
          "model_module": "@jupyter-widgets/controls",
          "model_name": "DescriptionStyleModel",
          "state": {
            "_view_name": "StyleView",
            "_model_name": "DescriptionStyleModel",
            "description_width": "",
            "_view_module": "@jupyter-widgets/base",
            "_model_module_version": "1.5.0",
            "_view_count": null,
            "_view_module_version": "1.2.0",
            "_model_module": "@jupyter-widgets/controls"
          }
        },
        "08078b8f65a9405ba9fd6472b26c9169": {
          "model_module": "@jupyter-widgets/base",
          "model_name": "LayoutModel",
          "state": {
            "_view_name": "LayoutView",
            "grid_template_rows": null,
            "right": null,
            "justify_content": null,
            "_view_module": "@jupyter-widgets/base",
            "overflow": null,
            "_model_module_version": "1.2.0",
            "_view_count": null,
            "flex_flow": null,
            "width": null,
            "min_width": null,
            "border": null,
            "align_items": null,
            "bottom": null,
            "_model_module": "@jupyter-widgets/base",
            "top": null,
            "grid_column": null,
            "overflow_y": null,
            "overflow_x": null,
            "grid_auto_flow": null,
            "grid_area": null,
            "grid_template_columns": null,
            "flex": null,
            "_model_name": "LayoutModel",
            "justify_items": null,
            "grid_row": null,
            "max_height": null,
            "align_content": null,
            "visibility": null,
            "align_self": null,
            "height": null,
            "min_height": null,
            "padding": null,
            "grid_auto_rows": null,
            "grid_gap": null,
            "max_width": null,
            "order": null,
            "_view_module_version": "1.2.0",
            "grid_template_areas": null,
            "object_position": null,
            "object_fit": null,
            "grid_auto_columns": null,
            "margin": null,
            "display": null,
            "left": null
          }
        },
        "f9ecfafbc37a4c549dabe00c96e6478c": {
          "model_module": "@jupyter-widgets/controls",
          "model_name": "HBoxModel",
          "state": {
            "_view_name": "HBoxView",
            "_dom_classes": [],
            "_model_name": "HBoxModel",
            "_view_module": "@jupyter-widgets/controls",
            "_model_module_version": "1.5.0",
            "_view_count": null,
            "_view_module_version": "1.5.0",
            "box_style": "",
            "layout": "IPY_MODEL_7693bb2ef2db418fbcf90111a81438d8",
            "_model_module": "@jupyter-widgets/controls",
            "children": [
              "IPY_MODEL_7abf52e09a394556bb68d720eac2a220",
              "IPY_MODEL_16cfd54e65954478a76674ba250ec810"
            ]
          }
        },
        "7693bb2ef2db418fbcf90111a81438d8": {
          "model_module": "@jupyter-widgets/base",
          "model_name": "LayoutModel",
          "state": {
            "_view_name": "LayoutView",
            "grid_template_rows": null,
            "right": null,
            "justify_content": null,
            "_view_module": "@jupyter-widgets/base",
            "overflow": null,
            "_model_module_version": "1.2.0",
            "_view_count": null,
            "flex_flow": null,
            "width": null,
            "min_width": null,
            "border": null,
            "align_items": null,
            "bottom": null,
            "_model_module": "@jupyter-widgets/base",
            "top": null,
            "grid_column": null,
            "overflow_y": null,
            "overflow_x": null,
            "grid_auto_flow": null,
            "grid_area": null,
            "grid_template_columns": null,
            "flex": null,
            "_model_name": "LayoutModel",
            "justify_items": null,
            "grid_row": null,
            "max_height": null,
            "align_content": null,
            "visibility": null,
            "align_self": null,
            "height": null,
            "min_height": null,
            "padding": null,
            "grid_auto_rows": null,
            "grid_gap": null,
            "max_width": null,
            "order": null,
            "_view_module_version": "1.2.0",
            "grid_template_areas": null,
            "object_position": null,
            "object_fit": null,
            "grid_auto_columns": null,
            "margin": null,
            "display": null,
            "left": null
          }
        },
        "7abf52e09a394556bb68d720eac2a220": {
          "model_module": "@jupyter-widgets/controls",
          "model_name": "FloatProgressModel",
          "state": {
            "_view_name": "ProgressView",
            "style": "IPY_MODEL_d3121882d88346fda0026e3fcdda2ef2",
            "_dom_classes": [],
            "description": "Epoch: [4/4]: 100%",
            "_model_name": "FloatProgressModel",
            "bar_style": "success",
            "max": 1,
            "_view_module": "@jupyter-widgets/controls",
            "_model_module_version": "1.5.0",
            "value": 1,
            "_view_count": null,
            "_view_module_version": "1.5.0",
            "orientation": "horizontal",
            "min": 0,
            "description_tooltip": null,
            "_model_module": "@jupyter-widgets/controls",
            "layout": "IPY_MODEL_d4fc1fd5f8b8466d9e2c336b401f0b18"
          }
        },
        "16cfd54e65954478a76674ba250ec810": {
          "model_module": "@jupyter-widgets/controls",
          "model_name": "HTMLModel",
          "state": {
            "_view_name": "HTMLView",
            "style": "IPY_MODEL_54159a2a2a7b421b965519d1caf6e458",
            "_dom_classes": [],
            "description": "",
            "_model_name": "HTMLModel",
            "placeholder": "​",
            "_view_module": "@jupyter-widgets/controls",
            "_model_module_version": "1.5.0",
            "value": " 1/1 [00:11&lt;00:00, 11.67s/it]",
            "_view_count": null,
            "_view_module_version": "1.5.0",
            "description_tooltip": null,
            "_model_module": "@jupyter-widgets/controls",
            "layout": "IPY_MODEL_b5d5eeb345d8489ebf7538af507b8a5b"
          }
        },
        "d3121882d88346fda0026e3fcdda2ef2": {
          "model_module": "@jupyter-widgets/controls",
          "model_name": "ProgressStyleModel",
          "state": {
            "_view_name": "StyleView",
            "_model_name": "ProgressStyleModel",
            "description_width": "initial",
            "_view_module": "@jupyter-widgets/base",
            "_model_module_version": "1.5.0",
            "_view_count": null,
            "_view_module_version": "1.2.0",
            "bar_color": null,
            "_model_module": "@jupyter-widgets/controls"
          }
        },
        "d4fc1fd5f8b8466d9e2c336b401f0b18": {
          "model_module": "@jupyter-widgets/base",
          "model_name": "LayoutModel",
          "state": {
            "_view_name": "LayoutView",
            "grid_template_rows": null,
            "right": null,
            "justify_content": null,
            "_view_module": "@jupyter-widgets/base",
            "overflow": null,
            "_model_module_version": "1.2.0",
            "_view_count": null,
            "flex_flow": null,
            "width": null,
            "min_width": null,
            "border": null,
            "align_items": null,
            "bottom": null,
            "_model_module": "@jupyter-widgets/base",
            "top": null,
            "grid_column": null,
            "overflow_y": null,
            "overflow_x": null,
            "grid_auto_flow": null,
            "grid_area": null,
            "grid_template_columns": null,
            "flex": null,
            "_model_name": "LayoutModel",
            "justify_items": null,
            "grid_row": null,
            "max_height": null,
            "align_content": null,
            "visibility": null,
            "align_self": null,
            "height": null,
            "min_height": null,
            "padding": null,
            "grid_auto_rows": null,
            "grid_gap": null,
            "max_width": null,
            "order": null,
            "_view_module_version": "1.2.0",
            "grid_template_areas": null,
            "object_position": null,
            "object_fit": null,
            "grid_auto_columns": null,
            "margin": null,
            "display": null,
            "left": null
          }
        },
        "54159a2a2a7b421b965519d1caf6e458": {
          "model_module": "@jupyter-widgets/controls",
          "model_name": "DescriptionStyleModel",
          "state": {
            "_view_name": "StyleView",
            "_model_name": "DescriptionStyleModel",
            "description_width": "",
            "_view_module": "@jupyter-widgets/base",
            "_model_module_version": "1.5.0",
            "_view_count": null,
            "_view_module_version": "1.2.0",
            "_model_module": "@jupyter-widgets/controls"
          }
        },
        "b5d5eeb345d8489ebf7538af507b8a5b": {
          "model_module": "@jupyter-widgets/base",
          "model_name": "LayoutModel",
          "state": {
            "_view_name": "LayoutView",
            "grid_template_rows": null,
            "right": null,
            "justify_content": null,
            "_view_module": "@jupyter-widgets/base",
            "overflow": null,
            "_model_module_version": "1.2.0",
            "_view_count": null,
            "flex_flow": null,
            "width": null,
            "min_width": null,
            "border": null,
            "align_items": null,
            "bottom": null,
            "_model_module": "@jupyter-widgets/base",
            "top": null,
            "grid_column": null,
            "overflow_y": null,
            "overflow_x": null,
            "grid_auto_flow": null,
            "grid_area": null,
            "grid_template_columns": null,
            "flex": null,
            "_model_name": "LayoutModel",
            "justify_items": null,
            "grid_row": null,
            "max_height": null,
            "align_content": null,
            "visibility": null,
            "align_self": null,
            "height": null,
            "min_height": null,
            "padding": null,
            "grid_auto_rows": null,
            "grid_gap": null,
            "max_width": null,
            "order": null,
            "_view_module_version": "1.2.0",
            "grid_template_areas": null,
            "object_position": null,
            "object_fit": null,
            "grid_auto_columns": null,
            "margin": null,
            "display": null,
            "left": null
          }
        }
      }
    },
    "accelerator": "GPU"
  },
  "cells": [
    {
      "cell_type": "code",
      "metadata": {
        "colab": {
          "base_uri": "https://localhost:8080/"
        },
        "id": "wJjbUObgPtPI",
        "outputId": "3a5c490b-6164-4392-9930-e34ebf7d983a"
      },
      "source": [
        "!nvidia-smi"
      ],
      "execution_count": 3,
      "outputs": [
        {
          "output_type": "stream",
          "text": [
            "Thu Jan 28 13:46:51 2021       \n",
            "+-----------------------------------------------------------------------------+\n",
            "| NVIDIA-SMI 460.32.03    Driver Version: 418.67       CUDA Version: 10.1     |\n",
            "|-------------------------------+----------------------+----------------------+\n",
            "| GPU  Name        Persistence-M| Bus-Id        Disp.A | Volatile Uncorr. ECC |\n",
            "| Fan  Temp  Perf  Pwr:Usage/Cap|         Memory-Usage | GPU-Util  Compute M. |\n",
            "|                               |                      |               MIG M. |\n",
            "|===============================+======================+======================|\n",
            "|   0  Tesla P100-PCIE...  Off  | 00000000:00:04.0 Off |                    0 |\n",
            "| N/A   37C    P0    26W / 250W |      0MiB / 16280MiB |      0%      Default |\n",
            "|                               |                      |                 ERR! |\n",
            "+-------------------------------+----------------------+----------------------+\n",
            "                                                                               \n",
            "+-----------------------------------------------------------------------------+\n",
            "| Processes:                                                                  |\n",
            "|  GPU   GI   CI        PID   Type   Process name                  GPU Memory |\n",
            "|        ID   ID                                                   Usage      |\n",
            "|=============================================================================|\n",
            "|  No running processes found                                                 |\n",
            "+-----------------------------------------------------------------------------+\n"
          ],
          "name": "stdout"
        }
      ]
    },
    {
      "cell_type": "code",
      "metadata": {
        "colab": {
          "base_uri": "https://localhost:8080/",
          "height": 102
        },
        "id": "sC2k_l6A9eJS",
        "outputId": "b570ef2a-e997-40fa-d58c-a29438e5404f"
      },
      "source": [
        "!pip uninstall fastai -y\r\n",
        "!pip install fastai -q\r\n",
        "\r\n",
        "import fastai\r\n",
        "fastai.__version__"
      ],
      "execution_count": 4,
      "outputs": [
        {
          "output_type": "stream",
          "text": [
            "Uninstalling fastai-1.0.61:\n",
            "  Successfully uninstalled fastai-1.0.61\n",
            "\u001b[K     |████████████████████████████████| 194kB 8.8MB/s \n",
            "\u001b[K     |████████████████████████████████| 61kB 7.5MB/s \n",
            "\u001b[?25h"
          ],
          "name": "stdout"
        },
        {
          "output_type": "execute_result",
          "data": {
            "application/vnd.google.colaboratory.intrinsic+json": {
              "type": "string"
            },
            "text/plain": [
              "'2.2.5'"
            ]
          },
          "metadata": {
            "tags": []
          },
          "execution_count": 4
        }
      ]
    },
    {
      "cell_type": "code",
      "metadata": {
        "colab": {
          "base_uri": "https://localhost:8080/"
        },
        "id": "1S_KF6DM0tF9",
        "outputId": "5ca497e1-6ec4-4ae3-da76-104602aebd07"
      },
      "source": [
        "from google.colab import drive\n",
        "drive.mount('/content/drive')"
      ],
      "execution_count": 5,
      "outputs": [
        {
          "output_type": "stream",
          "text": [
            "Mounted at /content/drive\n"
          ],
          "name": "stdout"
        }
      ]
    },
    {
      "cell_type": "code",
      "metadata": {
        "id": "EyZEyKsNx3DB",
        "cellView": "form",
        "colab": {
          "base_uri": "https://localhost:8080/"
        },
        "outputId": "f92a1703-6adb-4164-8dbe-e3d95d92fc99"
      },
      "source": [
        "# @title Download dataset\r\n",
        "import os\r\n",
        "import shutil\r\n",
        "import time\r\n",
        "from google_drive_downloader import GoogleDriveDownloader as gdd\r\n",
        "\r\n",
        "if not os.path.exists(\"/content/images/valid.zip\"):\r\n",
        "    # https://drive.google.com/file/d/1bXD5hR5WlIB6LsqDHmNn29EMA43Z82f3/view?usp=sharing\r\n",
        "    gdd.download_file_from_google_drive(file_id='1bXD5hR5WlIB6LsqDHmNn29EMA43Z82f3',\r\n",
        "                                        dest_path='./images/valid.zip',\r\n",
        "                                        unzip=True,\r\n",
        "                                        showsize=True,\r\n",
        "                                        )\r\n",
        "    # !rm -rf /content/images/valid.zip\r\n",
        "\r\n",
        "# download scripts\r\n",
        "\r\n",
        "!rm -rf *.py\r\n",
        "!rm -rf *.zip\r\n",
        "time.sleep(1)\r\n",
        "!wget -q https://github.com/veb-101/GAN-Colorisation/archive/master.zip\r\n",
        "!unzip -qq -o /content/master.zip \r\n",
        "!mv ./GAN-Colorisation-master/trainer.py ./trainer.py\r\n",
        "!mv ./GAN-Colorisation-master/utils.py ./utils.py\r\n",
        "!mv ./GAN-Colorisation-master/model.py ./model.py\r\n",
        "!mv ./GAN-Colorisation-master/data_loader.py ./data_loader.py\r\n",
        "!rm -rf /content/GAN-Colorisation-master\r\n",
        "\r\n",
        "\r\n",
        "if not os.path.exists(\"/content/images/train.zip\"):\r\n",
        "    # https://drive.google.com/file/d/1c5WQwglbVL9S_LHH5E9XU9bCWLzZg_V7/view?usp=sharing\r\n",
        "    gdd.download_file_from_google_drive(file_id='1c5WQwglbVL9S_LHH5E9XU9bCWLzZg_V7',\r\n",
        "                                        dest_path='./images/train.zip',\r\n",
        "                                        unzip=True,\r\n",
        "                                        showsize=True,\r\n",
        "                                        )\r\n",
        "    # !rm -rf /content/images/train.zip"
      ],
      "execution_count": 6,
      "outputs": [
        {
          "output_type": "stream",
          "text": [
            "Downloading 1bXD5hR5WlIB6LsqDHmNn29EMA43Z82f3 into ./images/valid.zip... \n",
            "9.3 MiB Done.\n",
            "Unzipping...Done.\n",
            "Downloading 1c5WQwglbVL9S_LHH5E9XU9bCWLzZg_V7 into ./images/train.zip... \n",
            "495.6 MiB Done.\n",
            "Unzipping...Done.\n"
          ],
          "name": "stdout"
        }
      ]
    },
    {
      "cell_type": "code",
      "metadata": {
        "ExecuteTime": {
          "end_time": "2021-01-27T18:42:27.570244Z",
          "start_time": "2021-01-27T18:42:21.959937Z"
        },
        "id": "XG_w56WAx1a4",
        "cellView": "form"
      },
      "source": [
        "#@title setup\n",
        "\n",
        "import os\n",
        "import gc\n",
        "import random\n",
        "import shutil\n",
        "import warnings\n",
        "import importlib\n",
        "import numpy as np\n",
        "# from tqdm. import tqdm\n",
        "from tqdm.notebook import tqdm\n",
        "\n",
        "\n",
        "\n",
        "import torch\n",
        "import torch.nn as nn\n",
        "import torch.optim as optim\n",
        "from torch.cuda.amp import autocast, GradScaler\n",
        "\n",
        "import model\n",
        "import utils\n",
        "import trainer\n",
        "import data_loader\n",
        "\n",
        "seed = 41\n",
        "random.seed(seed)\n",
        "np.random.seed(seed)\n",
        "torch.manual_seed(seed)\n",
        "\n",
        "importlib.reload(data_loader)\n",
        "importlib.reload(utils)\n",
        "importlib.reload(trainer)\n",
        "importlib.reload(model)\n",
        "\n",
        "from trainer import MainModel\n",
        "from utils import init_model\n",
        "from data_loader import make_dataloaders\n",
        "from utils import update_losses, visualize\n",
        "from utils import init_model, AverageMeter\n",
        "from utils import create_loss_meters, log_results\n",
        "from model import Generator_Res_Unet, Discriminator\n",
        "\n",
        "\n",
        "\n",
        "def get_default_device():\n",
        "    \"\"\"Pick GPU if available, else CPU\"\"\"\n",
        "    if torch.cuda.is_available():\n",
        "        return torch.device(\"cuda\")\n",
        "    return torch.device(\"cpu\")\n",
        "\n",
        "device = get_default_device()\n",
        "\n",
        "warnings.simplefilter(\"ignore\", UserWarning)"
      ],
      "execution_count": 7,
      "outputs": []
    },
    {
      "cell_type": "code",
      "metadata": {
        "id": "9_SS-jHsx1bA"
      },
      "source": [
        "def load_model(config, ckpt_number=-1, device=None, prefix=\"warm_\"):\n",
        "    \n",
        "    lr_G = config[\"lr_G\"]\n",
        "    lr_D = config[\"lr_D\"]\n",
        "    beta1 = config[\"beta1\"]\n",
        "    beta2 = config[\"beta2\"]\n",
        "    load_previous = config[\"load_previous\"]\n",
        "    \n",
        "    epoch = 0\n",
        "    gen_model = Generator_Res_Unet()\n",
        "    net_G = init_model(gen_model.get_model(), device)\n",
        "\n",
        "    net_D = init_model(Discriminator(input_channels=3), device)\n",
        "    scaler_G = GradScaler()\n",
        "    scaler_D = GradScaler()\n",
        "\n",
        "    opt_G = optim.Adam(net_G.parameters(), lr=lr_G, betas=(beta1, beta2))\n",
        "    opt_D = optim.Adam(net_D.parameters(), lr=lr_D, betas=(beta1, beta2))\n",
        "\n",
        "    drive_path = r\"/content/drive/MyDrive/Project-Colorisation\"\n",
        "    print(f\"[*] Finding checkpoint {ckpt_number} in {drive_path}\")\n",
        "\n",
        "    checkpoint_file = f\"{prefix}checkpoint_{ckpt_number}.tar\"\n",
        "    checkpoint_path = os.path.join(drive_path, checkpoint_file)\n",
        "\n",
        "    if not os.path.exists(checkpoint_path):\n",
        "        print(f\"[!] No checkpoint for epoch {ckpt_number}\")\n",
        "    else:    \n",
        "        checkpoint = torch.load(checkpoint_path)\n",
        "\n",
        "        epoch = checkpoint[\"epoch\"]\n",
        "\n",
        "        net_G.load_state_dict(checkpoint[f\"net_G\"])\n",
        "        print(\"Generator weight loaded\")\n",
        "\n",
        "        try:\n",
        "            net_D.load_state_dict(checkpoint[f\"net_D\"])\n",
        "            print(\"Discriminator weights loaded.\")\n",
        "        except:\n",
        "            pass\n",
        "\n",
        "        if load_previous:\n",
        "            try:  \n",
        "                opt_D.load_state_dict(checkpoint[f\"opt_D\"])\n",
        "                print(\"Discriminator optimizer loaded.\")\n",
        "            except:\n",
        "                pass\n",
        "\n",
        "            opt_G.load_state_dict(checkpoint[f\"opt_G\"])\n",
        "            print(\"Optimizer's state loaded\")\n",
        "            \n",
        "            try:\n",
        "                scaler_G.load_state_dict(checkpoint[f\"scaler_G\"])\n",
        "                print(\"Grad Scaler - Generator loaded\")\n",
        "                scaler_D.load_state_dict(checkpoint[f\"scaler_D\"])\n",
        "                print(\"Grad Scaler - Discriminator loaded\")\n",
        "            except Exception as e:\n",
        "                pass\n",
        "        \n",
        "\n",
        "    return_ = {\n",
        "        \"epoch\": epoch,\n",
        "        \"net_G\": net_G,\n",
        "        \"opt_G\": opt_G,\n",
        "        \"scaler_G\": scaler_G,\n",
        "        \"net_D\": net_D,\n",
        "        \"scaler_D\": scaler_D,\n",
        "        \"opt_D\": opt_D\n",
        "    }\n",
        "    return return_"
      ],
      "execution_count": 8,
      "outputs": []
    },
    {
      "cell_type": "code",
      "metadata": {
        "ExecuteTime": {
          "end_time": "2021-01-28T06:46:41.145932Z",
          "start_time": "2021-01-28T06:46:41.139971Z"
        },
        "id": "ONnUSePzx1bE"
      },
      "source": [
        "def pretrain_generator(train_dl, valid_dl, net, scaler, opt, criterion, start_epoch, epochs):\n",
        "    savedir = \"/content/warmup_train\"\n",
        "    os.makedirs(savedir, exist_ok=True)\n",
        "    drive_path = \"/content/drive/MyDrive/Project-Colorisation\"\n",
        "    os.makedirs(drive_path, exist_ok=True)\n",
        "    \n",
        "    for e in range(start_epoch, start_epoch+epochs):\n",
        "        loss_meter = AverageMeter()\n",
        "        training_loader_iter = iter(train_dl)\n",
        "        length_train = len(training_loader_iter)\n",
        "        \n",
        "        for i in tqdm(range(length_train), desc=f\"Epoch: [{e}/{start_epoch+epochs-1}]\"):\n",
        "            data = next(training_loader_iter)\n",
        "\n",
        "            opt.zero_grad()\n",
        "            L, ab = data['L'].to(device), data['ab'].to(device)\n",
        "\n",
        "            with autocast():\n",
        "                preds = net(L)\n",
        "                loss = criterion(preds, ab)\n",
        "            \n",
        "            scaler.scale(loss).backward()\n",
        "            scaler.step(opt)\n",
        "            scaler_G.update()\n",
        "            # loss.backward()\n",
        "            # opt.step()\n",
        "            loss_meter.update(loss.detach().item(), L.size(0))\n",
        "            torch.cuda.empty_cache()\n",
        "            gc.collect()\n",
        "            \n",
        "            if i == 0 or i == int(length_train / 2) or i == (length_train - 1):\n",
        "                print(f\"Iteration:[{i+1}/{length_train}] L1 Loss: [{loss_meter.avg:.5f}]\")\n",
        "        \n",
        "        for idx, valid_data in enumerate(valid_dl):\n",
        "            visualize(net, valid_data, save_name=os.path.join(savedir, f\"Validation_Epoch_{e}-{idx}.png\"))\n",
        "        \n",
        "        file_name = f\"warm_checkpoint_{e}.tar\"\n",
        "        torch.save({\n",
        "            \"epoch\": e,\n",
        "            \"net_G\": net.state_dict(),\n",
        "            \"opt_G\": opt.state_dict(),\n",
        "            \"scaler_G\": scaler.state_dict(),\n",
        "        }, file_name)\n",
        "        shutil.copyfile(file_name, os.path.join(drive_path, file_name))"
      ],
      "execution_count": 14,
      "outputs": []
    },
    {
      "cell_type": "code",
      "metadata": {
        "id": "sJJ9Im3p6_iC"
      },
      "source": [
        "def train_model(model, train_dl, valid_dl, start_epoch, epochs):\r\n",
        "    # getting a batch for visualizing the model output after fixed intrvals\r\n",
        "    savedir = \"/content/gan_train\"\r\n",
        "    os.makedirs(savedir, exist_ok=True)\r\n",
        "    drive_path = \"/content/drive/MyDrive/Project-Colorisation\"\r\n",
        "    os.makedirs(drive_path, exist_ok=True)\r\n",
        "\r\n",
        "    for e in range(start_epoch, start_epoch+epochs):\r\n",
        "        loss_meter_dict = create_loss_meters()\r\n",
        "        training_loader_iter = iter(train_dl)\r\n",
        "        length_train = len(training_loader_iter)\r\n",
        "        \r\n",
        "        for i in tqdm(range(length_train), desc=f\"Epoch: [{e}/{start_epoch+epochs-1}]\"):\r\n",
        "            data = next(training_loader_iter)\r\n",
        "            model.setup_input(data)\r\n",
        "            model.optimize()\r\n",
        "            \r\n",
        "            # function updating the log objects\r\n",
        "            update_losses(model, loss_meter_dict, count=data[\"L\"].size(0)) \r\n",
        "            \r\n",
        "            if i == 0 or i == int(length_train / 2) or i == (length_train - 1):\r\n",
        "                print(f\"Iteration:[{i+1}/{length_train}]\", end=\" \")\r\n",
        "                # function to print out the losses\r\n",
        "                log_results(loss_meter_dict)  \r\n",
        "            \r\n",
        "        for idx, valid_data in enumerate(valid_dl):\r\n",
        "            visualize(model, valid_data, save_name=os.path.join(savedir, f\"Validation_Epoch_{e}-{idx}.png\"))\r\n",
        "        \r\n",
        "        file_name = f\"gan_checkpoint_{e}.tar\"\r\n",
        "        torch.save({\r\n",
        "            \"epoch\": e,\r\n",
        "            \"net_G\": model.net_G.state_dict(),\r\n",
        "            \"opt_G\": model.opt_G.state_dict(),\r\n",
        "            \"scaler_G\": model.scaler_G.state_dict(),\r\n",
        "            \"net_D\": model.net_D.state_dict(),\r\n",
        "            \"opt_D\": model.opt_D.state_dict(),\r\n",
        "            \"scaler_D\": model.scaler_D.state_dict(),\r\n",
        "        }, file_name)\r\n",
        "\r\n",
        "        shutil.copyfile(file_name, os.path.join(drive_path, file_name))"
      ],
      "execution_count": 10,
      "outputs": []
    },
    {
      "cell_type": "code",
      "metadata": {
        "ExecuteTime": {
          "end_time": "2021-01-27T18:43:02.033511Z",
          "start_time": "2021-01-27T18:43:02.017421Z"
        },
        "colab": {
          "base_uri": "https://localhost:8080/"
        },
        "id": "0sCTOIdhx1bC",
        "outputId": "c5313d0e-766a-4ead-cded-e501d159cdfa"
      },
      "source": [
        "train_ = \"/content/images/train\"\n",
        "valid_ = \"/content/images/valid\"\n",
        "\n",
        "device = get_default_device()\n",
        "\n",
        "train_dl = make_dataloaders(path=train_, num_images=-1)\n",
        "valid_dl = make_dataloaders(path=valid_, num_images=-1, is_training=False, shuffle=False)\n",
        "    \n",
        "print(f\"Number of batches ::Train:: {len(train_dl)}, ::Valid:: {len(valid_dl)}\")"
      ],
      "execution_count": 11,
      "outputs": [
        {
          "output_type": "stream",
          "text": [
            "Number of batches ::Train:: 109, ::Valid:: 2\n"
          ],
          "name": "stdout"
        }
      ]
    },
    {
      "cell_type": "code",
      "metadata": {
        "id": "KQfQdahOx1bF"
      },
      "source": [
        "config = {\n",
        "    \"lr_G\": 1e-4,\n",
        "    \"lr_D\": 2e-4,\n",
        "    \"beta1\": 0.5,\n",
        "    \"beta2\": 0.999,\n",
        "    \"lambda_L1\": 100.0,\n",
        "    \"load_previous\": True\n",
        "}"
      ],
      "execution_count": 12,
      "outputs": []
    },
    {
      "cell_type": "code",
      "metadata": {
        "id": "OulVfPHbx1bG",
        "colab": {
          "base_uri": "https://localhost:8080/",
          "height": 636,
          "referenced_widgets": [
            "0cc86d94cb6a4c3bbb5c3adf0ddcdbb2",
            "48d6ff5140dd4ce189fdf201df8645e6",
            "79d82bacabb24795ab369f462531c99c",
            "57001d7f072849059e3b8b2a2a40e4f7",
            "741879a2ab7740e4aad60ab3f17301b6",
            "fcda8590a50c4d228c78bb372453f04f",
            "a9d9902336fd4d66b90e88e5f493b301",
            "6010d528dfe64dfaacac55be7d90df89",
            "f9600b747b0a431d9cc68c12cd04b265",
            "9854dbd75f5c4b5398f41b9329f5f16a",
            "9e42234f03bd49a99c7e7d004d9015a9",
            "fc244ed2549d47728a8a832973c34926",
            "13ad4d01942f4eae9ced33f1ea2ac0b5",
            "752177dcecfd45bfade6a2db1dde7e85",
            "cd4c7937afb147cda0fa800a6dd88b08",
            "8076386100e7416c9f04ec67537516a1"
          ]
        },
        "outputId": "7bc005b6-59da-41e5-908b-e794b16c1c2e"
      },
      "source": [
        "#@title Warmup generator\r\n",
        "\r\n",
        "# load previous epoch optimizers and grad scaler\r\n",
        "config[\"load_previous\"] = False # First run\r\n",
        "# config[\"load_previous\"] = True # uncomment for subsequent runs of same Type\r\n",
        "\r\n",
        "load_ckpt = -1\r\n",
        "gen_load = load_model(config, ckpt_number=load_ckpt, device=device, prefix=\"warm_\")\r\n",
        "\r\n",
        "net_G = gen_load[\"net_G\"]\r\n",
        "scaler_G = gen_load[\"scaler_G\"]\r\n",
        "opt_G = gen_load[\"opt_G\"]\r\n",
        "last_epoch = gen_load[\"epoch\"]\r\n",
        "\r\n",
        "criterion = nn.L1Loss()     \r\n",
        "criterion.to(device)\r\n",
        "start_epoch = last_epoch + 1\r\n",
        "epochs = 2\r\n",
        "\r\n",
        "pretrain_generator(train_dl, valid_dl, net_G, scaler_G, opt_G, criterion, start_epoch, epochs)"
      ],
      "execution_count": 13,
      "outputs": [
        {
          "output_type": "stream",
          "text": [
            "Downloading: \"https://download.pytorch.org/models/resnet18-5c106cde.pth\" to /root/.cache/torch/hub/checkpoints/resnet18-5c106cde.pth\n"
          ],
          "name": "stderr"
        },
        {
          "output_type": "display_data",
          "data": {
            "application/vnd.jupyter.widget-view+json": {
              "model_id": "0cc86d94cb6a4c3bbb5c3adf0ddcdbb2",
              "version_minor": 0,
              "version_major": 2
            },
            "text/plain": [
              "HBox(children=(FloatProgress(value=0.0, max=46827520.0), HTML(value='')))"
            ]
          },
          "metadata": {
            "tags": []
          }
        },
        {
          "output_type": "stream",
          "text": [
            "\n",
            "model initialized with norm initialization\n",
            "model initialized with norm initialization\n",
            "[*] Finding checkpoint -1 in /content/drive/MyDrive/Project-Colorisation\n",
            "[!] No checkpoint for epoch -1\n"
          ],
          "name": "stdout"
        },
        {
          "output_type": "display_data",
          "data": {
            "application/vnd.jupyter.widget-view+json": {
              "model_id": "f9600b747b0a431d9cc68c12cd04b265",
              "version_minor": 0,
              "version_major": 2
            },
            "text/plain": [
              "HBox(children=(FloatProgress(value=0.0, description='Epoch: [1/2]', max=109.0, style=ProgressStyle(description…"
            ]
          },
          "metadata": {
            "tags": []
          }
        },
        {
          "output_type": "stream",
          "text": [
            "Iteration:[1/109] L1 Loss: [0.09907]\n"
          ],
          "name": "stdout"
        },
        {
          "output_type": "error",
          "ename": "RuntimeError",
          "evalue": "ignored",
          "traceback": [
            "\u001b[0;31m---------------------------------------------------------------------------\u001b[0m",
            "\u001b[0;31mRuntimeError\u001b[0m                              Traceback (most recent call last)",
            "\u001b[0;32m<ipython-input-13-9c2210054b83>\u001b[0m in \u001b[0;36m<module>\u001b[0;34m()\u001b[0m\n\u001b[1;32m     18\u001b[0m \u001b[0mepochs\u001b[0m \u001b[0;34m=\u001b[0m \u001b[0;36m2\u001b[0m\u001b[0;34m\u001b[0m\u001b[0;34m\u001b[0m\u001b[0m\n\u001b[1;32m     19\u001b[0m \u001b[0;34m\u001b[0m\u001b[0m\n\u001b[0;32m---> 20\u001b[0;31m \u001b[0mpretrain_generator\u001b[0m\u001b[0;34m(\u001b[0m\u001b[0mtrain_dl\u001b[0m\u001b[0;34m,\u001b[0m \u001b[0mvalid_dl\u001b[0m\u001b[0;34m,\u001b[0m \u001b[0mnet_G\u001b[0m\u001b[0;34m,\u001b[0m \u001b[0mscaler_G\u001b[0m\u001b[0;34m,\u001b[0m \u001b[0mopt_G\u001b[0m\u001b[0;34m,\u001b[0m \u001b[0mcriterion\u001b[0m\u001b[0;34m,\u001b[0m \u001b[0mstart_epoch\u001b[0m\u001b[0;34m,\u001b[0m \u001b[0mepochs\u001b[0m\u001b[0;34m)\u001b[0m\u001b[0;34m\u001b[0m\u001b[0;34m\u001b[0m\u001b[0m\n\u001b[0m",
            "\u001b[0;32m<ipython-input-9-b195af71a117>\u001b[0m in \u001b[0;36mpretrain_generator\u001b[0;34m(train_dl, valid_dl, net, scaler, opt, criterion, start_epoch, epochs)\u001b[0m\n\u001b[1;32m     21\u001b[0m \u001b[0;34m\u001b[0m\u001b[0m\n\u001b[1;32m     22\u001b[0m             \u001b[0mscaler\u001b[0m\u001b[0;34m.\u001b[0m\u001b[0mscale\u001b[0m\u001b[0;34m(\u001b[0m\u001b[0mloss\u001b[0m\u001b[0;34m)\u001b[0m\u001b[0;34m.\u001b[0m\u001b[0mbackward\u001b[0m\u001b[0;34m(\u001b[0m\u001b[0;34m)\u001b[0m\u001b[0;34m\u001b[0m\u001b[0;34m\u001b[0m\u001b[0m\n\u001b[0;32m---> 23\u001b[0;31m             \u001b[0mscaler\u001b[0m\u001b[0;34m.\u001b[0m\u001b[0mstep\u001b[0m\u001b[0;34m(\u001b[0m\u001b[0mopt\u001b[0m\u001b[0;34m)\u001b[0m\u001b[0;34m\u001b[0m\u001b[0;34m\u001b[0m\u001b[0m\n\u001b[0m\u001b[1;32m     24\u001b[0m             \u001b[0;31m# loss.backward()\u001b[0m\u001b[0;34m\u001b[0m\u001b[0;34m\u001b[0m\u001b[0;34m\u001b[0m\u001b[0m\n\u001b[1;32m     25\u001b[0m             \u001b[0;31m# opt.step()\u001b[0m\u001b[0;34m\u001b[0m\u001b[0;34m\u001b[0m\u001b[0;34m\u001b[0m\u001b[0m\n",
            "\u001b[0;32m/usr/local/lib/python3.6/dist-packages/torch/cuda/amp/grad_scaler.py\u001b[0m in \u001b[0;36mstep\u001b[0;34m(self, optimizer, *args, **kwargs)\u001b[0m\n\u001b[1;32m    300\u001b[0m \u001b[0;34m\u001b[0m\u001b[0m\n\u001b[1;32m    301\u001b[0m         \u001b[0;32mif\u001b[0m \u001b[0moptimizer_state\u001b[0m\u001b[0;34m[\u001b[0m\u001b[0;34m\"stage\"\u001b[0m\u001b[0;34m]\u001b[0m \u001b[0;32mis\u001b[0m \u001b[0mOptState\u001b[0m\u001b[0;34m.\u001b[0m\u001b[0mSTEPPED\u001b[0m\u001b[0;34m:\u001b[0m\u001b[0;34m\u001b[0m\u001b[0;34m\u001b[0m\u001b[0m\n\u001b[0;32m--> 302\u001b[0;31m             \u001b[0;32mraise\u001b[0m \u001b[0mRuntimeError\u001b[0m\u001b[0;34m(\u001b[0m\u001b[0;34m\"step() has already been called since the last update().\"\u001b[0m\u001b[0;34m)\u001b[0m\u001b[0;34m\u001b[0m\u001b[0;34m\u001b[0m\u001b[0m\n\u001b[0m\u001b[1;32m    303\u001b[0m \u001b[0;34m\u001b[0m\u001b[0m\n\u001b[1;32m    304\u001b[0m         \u001b[0mretval\u001b[0m \u001b[0;34m=\u001b[0m \u001b[0;32mNone\u001b[0m\u001b[0;34m\u001b[0m\u001b[0;34m\u001b[0m\u001b[0m\n",
            "\u001b[0;31mRuntimeError\u001b[0m: step() has already been called since the last update()."
          ]
        }
      ]
    },
    {
      "cell_type": "code",
      "metadata": {
        "id": "Z5EKjQjtx1bH",
        "colab": {
          "base_uri": "https://localhost:8080/",
          "height": 249,
          "referenced_widgets": [
            "579141dfaa834ecca90f04923babf966",
            "8857085871514b59b0ca783800940b77",
            "9d543153a1e64347acf5ddc23d49ff4b",
            "90af8e8f55004363a7a934c7b6ed34c9",
            "4f8c79b7f8164059ab5b30f4e5f4ebf8",
            "e9b42b22d9614451804240854fb42959",
            "5375176eb96a495eb43d10995c37c681",
            "08078b8f65a9405ba9fd6472b26c9169",
            "f9ecfafbc37a4c549dabe00c96e6478c",
            "7693bb2ef2db418fbcf90111a81438d8",
            "7abf52e09a394556bb68d720eac2a220",
            "16cfd54e65954478a76674ba250ec810",
            "d3121882d88346fda0026e3fcdda2ef2",
            "d4fc1fd5f8b8466d9e2c336b401f0b18",
            "54159a2a2a7b421b965519d1caf6e458",
            "b5d5eeb345d8489ebf7538af507b8a5b"
          ]
        },
        "outputId": "b1cb7590-d118-403a-f98d-bff9612a9c7f"
      },
      "source": [
        "# train Gan model\n",
        "\n",
        "config[\"lr_G\"] = 2e-4\n",
        "\n",
        "# load previous epoch optimizers and grad scaler\n",
        "config[\"load_previous\"] = False # First run\n",
        "# config[\"load_previous\"] = True # uncomment for subsequent runs of same Type\n",
        "load_ckpt = 2\n",
        "gan_load = load_model(config, ckpt_number=load_ckpt, device=device, prefix=\"warm_\")\n",
        "\n",
        "# load_ckpt = 1\n",
        "# gan_load = load_model(config, ckpt_number=load_ckpt, device=device, prefix=\"gan_\")\n",
        "\n",
        "# pretrained Generator \n",
        "net_G = gan_load[\"net_G\"]\n",
        "scaler_G = gan_load[\"scaler_G\"]\n",
        "opt_G = gan_load[\"opt_G\"]\n",
        "\n",
        "# newly Discriminator if load_previous = False else previously trained\n",
        "net_D = gan_load[\"net_D\"]\n",
        "scaler_D = gan_load[\"scaler_D\"]\n",
        "opt_D = gan_load[\"opt_D\"]\n",
        "\n",
        "last_epoch = gan_load[\"epoch\"] \n",
        "\n",
        "if not config[\"load_previous\"]:\n",
        "    last_epoch = 0\n",
        "\n",
        "start_epoch = last_epoch + 1\n",
        "epochs = 2\n",
        "\n",
        "model = MainModel(net_G=net_G,\n",
        "                  net_D=net_D,\n",
        "                  scaler_G=scaler_G,\n",
        "                  scaler_D=scaler_D,\n",
        "                  opt_G=opt_G,\n",
        "                  opt_D=opt_D,\n",
        "                  device=device)\n",
        "\n",
        "train_model(model, train_dl, valid_dl, start_epoch, epochs)\n"
      ],
      "execution_count": null,
      "outputs": [
        {
          "output_type": "stream",
          "text": [
            "model initialized with norm initialization\n",
            "model initialized with norm initialization\n",
            "[*] Finding checkpoint 2 in /content/drive/MyDrive/Project-Colorisation\n",
            "Generator weight loaded\n",
            "Optimizer's state loaded\n",
            "Grad Scaler - Generator loaded\n"
          ],
          "name": "stdout"
        },
        {
          "output_type": "display_data",
          "data": {
            "application/vnd.jupyter.widget-view+json": {
              "model_id": "579141dfaa834ecca90f04923babf966",
              "version_minor": 0,
              "version_major": 2
            },
            "text/plain": [
              "HBox(children=(FloatProgress(value=0.0, description='Epoch: [3/4]', max=1.0, style=ProgressStyle(description_w…"
            ]
          },
          "metadata": {
            "tags": []
          }
        },
        {
          "output_type": "stream",
          "text": [
            "Iteration:[1/1] loss_D: 0.97997 loss_G_GAN: 1.31731 loss_G_L1: 8.91221 loss_G: 10.22951 \n",
            "\n"
          ],
          "name": "stdout"
        },
        {
          "output_type": "display_data",
          "data": {
            "application/vnd.jupyter.widget-view+json": {
              "model_id": "f9ecfafbc37a4c549dabe00c96e6478c",
              "version_minor": 0,
              "version_major": 2
            },
            "text/plain": [
              "HBox(children=(FloatProgress(value=0.0, description='Epoch: [4/4]', max=1.0, style=ProgressStyle(description_w…"
            ]
          },
          "metadata": {
            "tags": []
          }
        },
        {
          "output_type": "stream",
          "text": [
            "Iteration:[1/1] loss_D: 0.98914 loss_G_GAN: 2.06088 loss_G_L1: 8.74411 loss_G: 10.80499 \n",
            "\n"
          ],
          "name": "stdout"
        }
      ]
    },
    {
      "cell_type": "code",
      "metadata": {
        "id": "z7bsyig52tYz"
      },
      "source": [
        ""
      ],
      "execution_count": null,
      "outputs": []
    },
    {
      "cell_type": "code",
      "metadata": {
        "id": "f9ibd-q2KYqx"
      },
      "source": [
        "# !rm -rf /content/drive/MyDrive/Project-Colorisation/*tar\r\n",
        "# !rm -rf *tar\r\n",
        "# !rm -rf /content/gan_train\r\n",
        "# !rm -rf /content/warmup_train"
      ],
      "execution_count": null,
      "outputs": []
    }
  ]
}