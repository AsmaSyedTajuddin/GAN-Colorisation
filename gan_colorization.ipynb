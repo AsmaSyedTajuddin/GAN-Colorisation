{
 "cells": [
  {
   "cell_type": "code",
   "execution_count": 1,
   "metadata": {
    "ExecuteTime": {
     "end_time": "2021-01-27T18:42:27.570244Z",
     "start_time": "2021-01-27T18:42:21.959937Z"
    }
   },
   "outputs": [],
   "source": [
    "import random\n",
    "import numpy as np\n",
    "from tqdm.notebook import tqdm\n",
    "\n",
    "import torch\n",
    "import torch.nn as nn\n",
    "import torch.optim as optim\n",
    "from data_loader import make_dataloaders\n",
    "from utils import create_loss_meters, log_results, update_losses, visualize\n",
    "from trainer import MainModel\n",
    "\n",
    "from model import Generator_Res_Unet"
   ]
  },
  {
   "cell_type": "code",
   "execution_count": 2,
   "metadata": {
    "ExecuteTime": {
     "end_time": "2021-01-27T18:42:31.208435Z",
     "start_time": "2021-01-27T18:42:31.198473Z"
    }
   },
   "outputs": [],
   "source": [
    "seed = 41\n",
    "random.seed(seed)\n",
    "np.random.seed(seed)\n",
    "torch.manual_seed(seed)\n",
    "\n",
    "\n",
    "def get_default_device():\n",
    "    \"\"\"Pick GPU if available, else CPU\"\"\"\n",
    "    if torch.cuda.is_available():\n",
    "        return torch.device(\"cuda\")\n",
    "    return torch.device(\"cpu\")"
   ]
  },
  {
   "cell_type": "code",
   "execution_count": 5,
   "metadata": {
    "ExecuteTime": {
     "end_time": "2021-01-27T18:42:49.157548Z",
     "start_time": "2021-01-27T18:42:49.149414Z"
    }
   },
   "outputs": [],
   "source": [
    "def train_model(model, train_dl, valid_dl, epochs):\n",
    "    # getting a batch for visualizing the model output after fixed intrvals\n",
    "\n",
    "    \n",
    "    for e in range(epochs):\n",
    "        training_loader_iter = iter(train_dl)\n",
    "        length_train = len(training_loader_iter)\n",
    "        \n",
    "        # function returing a dictionary of objects to\n",
    "        loss_meter_dict = create_loss_meters()\n",
    "        \n",
    "        # log the losses of the complete network\n",
    "        for i in tqdm(length_train):\n",
    "            data = next(training_loader_iter)\n",
    "            model.setup_input(data)\n",
    "            model.optimize()\n",
    "            \n",
    "            # function updating the log objects\n",
    "            update_losses(model, loss_meter_dict, count=data[\"L\"].size(0)) \n",
    "            \n",
    "            if i == 0 or i == int(length_train / 2) or i == (length_train - 1):\n",
    "                print(f\"\\nEpoch: [{e+1}/{epochs}], Iteration:[{i}/{length_train}]\")\n",
    "                \n",
    "                # function to print out the losses\n",
    "                log_results(loss_meter_dict)  \n",
    "            \n",
    "        for idx, valid_data in enumerate(valid_dl):\n",
    "            visualize(model, valid_data, save_name=f\"Epoch_{e}-{idx}.png\")"
   ]
  },
  {
   "cell_type": "code",
   "execution_count": 6,
   "metadata": {
    "ExecuteTime": {
     "end_time": "2021-01-27T18:42:53.705122Z",
     "start_time": "2021-01-27T18:42:53.694791Z"
    }
   },
   "outputs": [],
   "source": [
    "def pretrain_generator(net_G, train_dl, valid_dl, opt, criterion, epochs):\n",
    "    for e in range(epochs):\n",
    "        loss_meter = AverageMeter()\n",
    "        \n",
    "        for data in tqdm(train_dl):\n",
    "            L, ab = data['L'].to(device), data['ab'].to(device)\n",
    "            preds = net_G(L)\n",
    "            loss = criterion(preds, ab)\n",
    "            opt.zero_grad()\n",
    "            loss.backward()\n",
    "            opt.step()\n",
    "            loss_meter.update(loss.item(), L.size(0))\n",
    "            torch.cuda.empty_cache()\n",
    "            \n",
    "        print(f\"Epoch: [{e + 1}/{epochs}] L1 Loss: [{loss_meter.avg:.5f}]\")\n",
    "        \n",
    "        for idx, valid_data in enumerate(valid_dl):\n",
    "            visualize(model, valid_data, save_name=f\"Epoch_{e}-{idx}.png\")"
   ]
  },
  {
   "cell_type": "code",
   "execution_count": 8,
   "metadata": {
    "ExecuteTime": {
     "end_time": "2021-01-27T18:43:02.033511Z",
     "start_time": "2021-01-27T18:43:02.017421Z"
    }
   },
   "outputs": [
    {
     "name": "stdout",
     "output_type": "stream",
     "text": [
      "Number of batches ::Train:: 109, ::Valid:: 2\n"
     ]
    }
   ],
   "source": [
    "if __name__ == \"__main__\":\n",
    "    \n",
    "    train_ = r\"images\\train\"\n",
    "    valid_ = r\"images\\valid\"\n",
    "\n",
    "    device = get_default_device()\n",
    "\n",
    "    train_dl = make_dataloaders(path=train_)\n",
    "    valid_dl = make_dataloaders(\n",
    "        path=valid_, is_training=False, shuffle=False\n",
    "    )\n",
    "    \n",
    "    print(f\"Number of batches ::Train:: {len(train_dl)}, ::Valid:: {len(valid_dl)}\")"
   ]
  },
  {
   "cell_type": "code",
   "execution_count": 11,
   "metadata": {
    "ExecuteTime": {
     "end_time": "2021-01-27T18:47:41.675783Z",
     "start_time": "2021-01-27T18:47:38.617672Z"
    }
   },
   "outputs": [
    {
     "name": "stdout",
     "output_type": "stream",
     "text": [
      "Pretraining  U-net Generator ResNet-18\n"
     ]
    },
    {
     "data": {
      "text/plain": [
       "L1Loss()"
      ]
     },
     "execution_count": 11,
     "metadata": {},
     "output_type": "execute_result"
    }
   ],
   "source": [
    "# Warmup generator\n",
    "\n",
    "print(\"Pretraining  U-net Generator ResNet-18\")\n",
    "net_G = Generator_Res_Unet().get_model()\n",
    "opt = optim.Adam(net_G.parameters(), lr=1e-4)\n",
    "criterion = nn.L1Loss()     \n",
    "\n",
    "net_G.to(device)\n",
    "criterion.to(device)\n",
    "\n",
    "# pretrain_generator(net_G, train_dl, valid_dl, opt, criterion, 20)\n",
    "# torch.save(net_G.state_dict(), \"res18-unet.pt\")"
   ]
  },
  {
   "cell_type": "code",
   "execution_count": null,
   "metadata": {},
   "outputs": [],
   "source": [
    "# train Gan model\n",
    "\n",
    "net_G = Generator_Res_Unet()\n",
    "net_G.load_state_dict(torch.load(\"res18-unet.pt\", map_location=device))\n",
    "model = MainModel(net_G=net_G)\n",
    "train_model(model, train_dl, valid_dl, 20)"
   ]
  }
 ],
 "metadata": {
  "kernelspec": {
   "display_name": "Python [conda env:pytorch-cpu]",
   "language": "python",
   "name": "conda-env-pytorch-cpu-py"
  },
  "language_info": {
   "codemirror_mode": {
    "name": "ipython",
    "version": 3
   },
   "file_extension": ".py",
   "mimetype": "text/x-python",
   "name": "python",
   "nbconvert_exporter": "python",
   "pygments_lexer": "ipython3",
   "version": "3.8.5"
  },
  "toc": {
   "base_numbering": 1,
   "nav_menu": {},
   "number_sections": true,
   "sideBar": true,
   "skip_h1_title": false,
   "title_cell": "Table of Contents",
   "title_sidebar": "Contents",
   "toc_cell": false,
   "toc_position": {},
   "toc_section_display": true,
   "toc_window_display": false
  },
  "varInspector": {
   "cols": {
    "lenName": 16,
    "lenType": 16,
    "lenVar": 40
   },
   "kernels_config": {
    "python": {
     "delete_cmd_postfix": "",
     "delete_cmd_prefix": "del ",
     "library": "var_list.py",
     "varRefreshCmd": "print(var_dic_list())"
    },
    "r": {
     "delete_cmd_postfix": ") ",
     "delete_cmd_prefix": "rm(",
     "library": "var_list.r",
     "varRefreshCmd": "cat(var_dic_list()) "
    }
   },
   "types_to_exclude": [
    "module",
    "function",
    "builtin_function_or_method",
    "instance",
    "_Feature"
   ],
   "window_display": false
  }
 },
 "nbformat": 4,
 "nbformat_minor": 4
}
