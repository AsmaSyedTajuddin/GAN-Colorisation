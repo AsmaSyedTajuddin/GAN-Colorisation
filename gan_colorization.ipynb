{
  "nbformat": 4,
  "nbformat_minor": 0,
  "metadata": {
    "kernelspec": {
      "display_name": "Python 3",
      "language": "python",
      "name": "python3"
    },
    "language_info": {
      "codemirror_mode": {
        "name": "ipython",
        "version": 3
      },
      "file_extension": ".py",
      "mimetype": "text/x-python",
      "name": "python",
      "nbconvert_exporter": "python",
      "pygments_lexer": "ipython3",
      "version": "3.7.7"
    },
    "toc": {
      "base_numbering": 1,
      "nav_menu": {},
      "number_sections": true,
      "sideBar": true,
      "skip_h1_title": false,
      "title_cell": "Table of Contents",
      "title_sidebar": "Contents",
      "toc_cell": false,
      "toc_position": {},
      "toc_section_display": true,
      "toc_window_display": false
    },
    "varInspector": {
      "cols": {
        "lenName": 16,
        "lenType": 16,
        "lenVar": 40
      },
      "kernels_config": {
        "python": {
          "delete_cmd_postfix": "",
          "delete_cmd_prefix": "del ",
          "library": "var_list.py",
          "varRefreshCmd": "print(var_dic_list())"
        },
        "r": {
          "delete_cmd_postfix": ") ",
          "delete_cmd_prefix": "rm(",
          "library": "var_list.r",
          "varRefreshCmd": "cat(var_dic_list()) "
        }
      },
      "types_to_exclude": [
        "module",
        "function",
        "builtin_function_or_method",
        "instance",
        "_Feature"
      ],
      "window_display": false
    },
    "colab": {
      "name": "gan_colorization.ipynb",
      "provenance": [],
      "collapsed_sections": [
        "o15GLHu5QVRB",
        "CKSeADGgSuj4",
        "pfA3euCIYi_f"
      ]
    },
    "accelerator": "GPU",
    "widgets": {
      "application/vnd.jupyter.widget-state+json": {
        "82710c8650aa4a1b805443511ebb5de7": {
          "model_module": "@jupyter-widgets/controls",
          "model_name": "HBoxModel",
          "state": {
            "_view_name": "HBoxView",
            "_dom_classes": [],
            "_model_name": "HBoxModel",
            "_view_module": "@jupyter-widgets/controls",
            "_model_module_version": "1.5.0",
            "_view_count": null,
            "_view_module_version": "1.5.0",
            "box_style": "",
            "layout": "IPY_MODEL_e1ba00aa88bf43469e4e78f91869da09",
            "_model_module": "@jupyter-widgets/controls",
            "children": [
              "IPY_MODEL_c76027161cfb40bfa79f0fe65aa93170",
              "IPY_MODEL_5a438665af9c449d8fe6a3cfbcc79179"
            ]
          }
        },
        "e1ba00aa88bf43469e4e78f91869da09": {
          "model_module": "@jupyter-widgets/base",
          "model_name": "LayoutModel",
          "state": {
            "_view_name": "LayoutView",
            "grid_template_rows": null,
            "right": null,
            "justify_content": null,
            "_view_module": "@jupyter-widgets/base",
            "overflow": null,
            "_model_module_version": "1.2.0",
            "_view_count": null,
            "flex_flow": null,
            "width": null,
            "min_width": null,
            "border": null,
            "align_items": null,
            "bottom": null,
            "_model_module": "@jupyter-widgets/base",
            "top": null,
            "grid_column": null,
            "overflow_y": null,
            "overflow_x": null,
            "grid_auto_flow": null,
            "grid_area": null,
            "grid_template_columns": null,
            "flex": null,
            "_model_name": "LayoutModel",
            "justify_items": null,
            "grid_row": null,
            "max_height": null,
            "align_content": null,
            "visibility": null,
            "align_self": null,
            "height": null,
            "min_height": null,
            "padding": null,
            "grid_auto_rows": null,
            "grid_gap": null,
            "max_width": null,
            "order": null,
            "_view_module_version": "1.2.0",
            "grid_template_areas": null,
            "object_position": null,
            "object_fit": null,
            "grid_auto_columns": null,
            "margin": null,
            "display": null,
            "left": null
          }
        },
        "c76027161cfb40bfa79f0fe65aa93170": {
          "model_module": "@jupyter-widgets/controls",
          "model_name": "FloatProgressModel",
          "state": {
            "_view_name": "ProgressView",
            "style": "IPY_MODEL_85ac13715d1a45d7bcd2a76ed53d7245",
            "_dom_classes": [],
            "description": "Epoch: [1/110]: 100%",
            "_model_name": "FloatProgressModel",
            "bar_style": "success",
            "max": 282,
            "_view_module": "@jupyter-widgets/controls",
            "_model_module_version": "1.5.0",
            "value": 282,
            "_view_count": null,
            "_view_module_version": "1.5.0",
            "orientation": "horizontal",
            "min": 0,
            "description_tooltip": null,
            "_model_module": "@jupyter-widgets/controls",
            "layout": "IPY_MODEL_7e055ac5608a46f1b281b18240d79036"
          }
        },
        "5a438665af9c449d8fe6a3cfbcc79179": {
          "model_module": "@jupyter-widgets/controls",
          "model_name": "HTMLModel",
          "state": {
            "_view_name": "HTMLView",
            "style": "IPY_MODEL_e36ef90c15eb4d4f85e92dcf1f125536",
            "_dom_classes": [],
            "description": "",
            "_model_name": "HTMLModel",
            "placeholder": "​",
            "_view_module": "@jupyter-widgets/controls",
            "_model_module_version": "1.5.0",
            "value": " 282/282 [02:42&lt;00:00,  1.73it/s]",
            "_view_count": null,
            "_view_module_version": "1.5.0",
            "description_tooltip": null,
            "_model_module": "@jupyter-widgets/controls",
            "layout": "IPY_MODEL_9fda02de3632402ea44beebe24c107e6"
          }
        },
        "85ac13715d1a45d7bcd2a76ed53d7245": {
          "model_module": "@jupyter-widgets/controls",
          "model_name": "ProgressStyleModel",
          "state": {
            "_view_name": "StyleView",
            "_model_name": "ProgressStyleModel",
            "description_width": "initial",
            "_view_module": "@jupyter-widgets/base",
            "_model_module_version": "1.5.0",
            "_view_count": null,
            "_view_module_version": "1.2.0",
            "bar_color": null,
            "_model_module": "@jupyter-widgets/controls"
          }
        },
        "7e055ac5608a46f1b281b18240d79036": {
          "model_module": "@jupyter-widgets/base",
          "model_name": "LayoutModel",
          "state": {
            "_view_name": "LayoutView",
            "grid_template_rows": null,
            "right": null,
            "justify_content": null,
            "_view_module": "@jupyter-widgets/base",
            "overflow": null,
            "_model_module_version": "1.2.0",
            "_view_count": null,
            "flex_flow": null,
            "width": null,
            "min_width": null,
            "border": null,
            "align_items": null,
            "bottom": null,
            "_model_module": "@jupyter-widgets/base",
            "top": null,
            "grid_column": null,
            "overflow_y": null,
            "overflow_x": null,
            "grid_auto_flow": null,
            "grid_area": null,
            "grid_template_columns": null,
            "flex": null,
            "_model_name": "LayoutModel",
            "justify_items": null,
            "grid_row": null,
            "max_height": null,
            "align_content": null,
            "visibility": null,
            "align_self": null,
            "height": null,
            "min_height": null,
            "padding": null,
            "grid_auto_rows": null,
            "grid_gap": null,
            "max_width": null,
            "order": null,
            "_view_module_version": "1.2.0",
            "grid_template_areas": null,
            "object_position": null,
            "object_fit": null,
            "grid_auto_columns": null,
            "margin": null,
            "display": null,
            "left": null
          }
        },
        "e36ef90c15eb4d4f85e92dcf1f125536": {
          "model_module": "@jupyter-widgets/controls",
          "model_name": "DescriptionStyleModel",
          "state": {
            "_view_name": "StyleView",
            "_model_name": "DescriptionStyleModel",
            "description_width": "",
            "_view_module": "@jupyter-widgets/base",
            "_model_module_version": "1.5.0",
            "_view_count": null,
            "_view_module_version": "1.2.0",
            "_model_module": "@jupyter-widgets/controls"
          }
        },
        "9fda02de3632402ea44beebe24c107e6": {
          "model_module": "@jupyter-widgets/base",
          "model_name": "LayoutModel",
          "state": {
            "_view_name": "LayoutView",
            "grid_template_rows": null,
            "right": null,
            "justify_content": null,
            "_view_module": "@jupyter-widgets/base",
            "overflow": null,
            "_model_module_version": "1.2.0",
            "_view_count": null,
            "flex_flow": null,
            "width": null,
            "min_width": null,
            "border": null,
            "align_items": null,
            "bottom": null,
            "_model_module": "@jupyter-widgets/base",
            "top": null,
            "grid_column": null,
            "overflow_y": null,
            "overflow_x": null,
            "grid_auto_flow": null,
            "grid_area": null,
            "grid_template_columns": null,
            "flex": null,
            "_model_name": "LayoutModel",
            "justify_items": null,
            "grid_row": null,
            "max_height": null,
            "align_content": null,
            "visibility": null,
            "align_self": null,
            "height": null,
            "min_height": null,
            "padding": null,
            "grid_auto_rows": null,
            "grid_gap": null,
            "max_width": null,
            "order": null,
            "_view_module_version": "1.2.0",
            "grid_template_areas": null,
            "object_position": null,
            "object_fit": null,
            "grid_auto_columns": null,
            "margin": null,
            "display": null,
            "left": null
          }
        },
        "0a4ade0c3d2a485299a6361c2d43d54e": {
          "model_module": "@jupyter-widgets/controls",
          "model_name": "HBoxModel",
          "state": {
            "_view_name": "HBoxView",
            "_dom_classes": [],
            "_model_name": "HBoxModel",
            "_view_module": "@jupyter-widgets/controls",
            "_model_module_version": "1.5.0",
            "_view_count": null,
            "_view_module_version": "1.5.0",
            "box_style": "",
            "layout": "IPY_MODEL_cca689e5580c40ba913d8c68fd789136",
            "_model_module": "@jupyter-widgets/controls",
            "children": [
              "IPY_MODEL_69789c3066574b4fa243f554227a0138",
              "IPY_MODEL_ac072bc1e4ac45938e3718cd289b4845"
            ]
          }
        },
        "cca689e5580c40ba913d8c68fd789136": {
          "model_module": "@jupyter-widgets/base",
          "model_name": "LayoutModel",
          "state": {
            "_view_name": "LayoutView",
            "grid_template_rows": null,
            "right": null,
            "justify_content": null,
            "_view_module": "@jupyter-widgets/base",
            "overflow": null,
            "_model_module_version": "1.2.0",
            "_view_count": null,
            "flex_flow": null,
            "width": null,
            "min_width": null,
            "border": null,
            "align_items": null,
            "bottom": null,
            "_model_module": "@jupyter-widgets/base",
            "top": null,
            "grid_column": null,
            "overflow_y": null,
            "overflow_x": null,
            "grid_auto_flow": null,
            "grid_area": null,
            "grid_template_columns": null,
            "flex": null,
            "_model_name": "LayoutModel",
            "justify_items": null,
            "grid_row": null,
            "max_height": null,
            "align_content": null,
            "visibility": null,
            "align_self": null,
            "height": null,
            "min_height": null,
            "padding": null,
            "grid_auto_rows": null,
            "grid_gap": null,
            "max_width": null,
            "order": null,
            "_view_module_version": "1.2.0",
            "grid_template_areas": null,
            "object_position": null,
            "object_fit": null,
            "grid_auto_columns": null,
            "margin": null,
            "display": null,
            "left": null
          }
        },
        "69789c3066574b4fa243f554227a0138": {
          "model_module": "@jupyter-widgets/controls",
          "model_name": "FloatProgressModel",
          "state": {
            "_view_name": "ProgressView",
            "style": "IPY_MODEL_c7a187e4eb8543a8a03f80e6cf362da3",
            "_dom_classes": [],
            "description": "Epoch: [2/110]: 100%",
            "_model_name": "FloatProgressModel",
            "bar_style": "success",
            "max": 282,
            "_view_module": "@jupyter-widgets/controls",
            "_model_module_version": "1.5.0",
            "value": 282,
            "_view_count": null,
            "_view_module_version": "1.5.0",
            "orientation": "horizontal",
            "min": 0,
            "description_tooltip": null,
            "_model_module": "@jupyter-widgets/controls",
            "layout": "IPY_MODEL_acf80c58f59c40eb924fb86a8b73be1a"
          }
        },
        "ac072bc1e4ac45938e3718cd289b4845": {
          "model_module": "@jupyter-widgets/controls",
          "model_name": "HTMLModel",
          "state": {
            "_view_name": "HTMLView",
            "style": "IPY_MODEL_8c147e34e713441488ecedec7e6ee5c3",
            "_dom_classes": [],
            "description": "",
            "_model_name": "HTMLModel",
            "placeholder": "​",
            "_view_module": "@jupyter-widgets/controls",
            "_model_module_version": "1.5.0",
            "value": " 282/282 [02:39&lt;00:00,  1.77it/s]",
            "_view_count": null,
            "_view_module_version": "1.5.0",
            "description_tooltip": null,
            "_model_module": "@jupyter-widgets/controls",
            "layout": "IPY_MODEL_830846e5409e4a57b330549559f33f5f"
          }
        },
        "c7a187e4eb8543a8a03f80e6cf362da3": {
          "model_module": "@jupyter-widgets/controls",
          "model_name": "ProgressStyleModel",
          "state": {
            "_view_name": "StyleView",
            "_model_name": "ProgressStyleModel",
            "description_width": "initial",
            "_view_module": "@jupyter-widgets/base",
            "_model_module_version": "1.5.0",
            "_view_count": null,
            "_view_module_version": "1.2.0",
            "bar_color": null,
            "_model_module": "@jupyter-widgets/controls"
          }
        },
        "acf80c58f59c40eb924fb86a8b73be1a": {
          "model_module": "@jupyter-widgets/base",
          "model_name": "LayoutModel",
          "state": {
            "_view_name": "LayoutView",
            "grid_template_rows": null,
            "right": null,
            "justify_content": null,
            "_view_module": "@jupyter-widgets/base",
            "overflow": null,
            "_model_module_version": "1.2.0",
            "_view_count": null,
            "flex_flow": null,
            "width": null,
            "min_width": null,
            "border": null,
            "align_items": null,
            "bottom": null,
            "_model_module": "@jupyter-widgets/base",
            "top": null,
            "grid_column": null,
            "overflow_y": null,
            "overflow_x": null,
            "grid_auto_flow": null,
            "grid_area": null,
            "grid_template_columns": null,
            "flex": null,
            "_model_name": "LayoutModel",
            "justify_items": null,
            "grid_row": null,
            "max_height": null,
            "align_content": null,
            "visibility": null,
            "align_self": null,
            "height": null,
            "min_height": null,
            "padding": null,
            "grid_auto_rows": null,
            "grid_gap": null,
            "max_width": null,
            "order": null,
            "_view_module_version": "1.2.0",
            "grid_template_areas": null,
            "object_position": null,
            "object_fit": null,
            "grid_auto_columns": null,
            "margin": null,
            "display": null,
            "left": null
          }
        },
        "8c147e34e713441488ecedec7e6ee5c3": {
          "model_module": "@jupyter-widgets/controls",
          "model_name": "DescriptionStyleModel",
          "state": {
            "_view_name": "StyleView",
            "_model_name": "DescriptionStyleModel",
            "description_width": "",
            "_view_module": "@jupyter-widgets/base",
            "_model_module_version": "1.5.0",
            "_view_count": null,
            "_view_module_version": "1.2.0",
            "_model_module": "@jupyter-widgets/controls"
          }
        },
        "830846e5409e4a57b330549559f33f5f": {
          "model_module": "@jupyter-widgets/base",
          "model_name": "LayoutModel",
          "state": {
            "_view_name": "LayoutView",
            "grid_template_rows": null,
            "right": null,
            "justify_content": null,
            "_view_module": "@jupyter-widgets/base",
            "overflow": null,
            "_model_module_version": "1.2.0",
            "_view_count": null,
            "flex_flow": null,
            "width": null,
            "min_width": null,
            "border": null,
            "align_items": null,
            "bottom": null,
            "_model_module": "@jupyter-widgets/base",
            "top": null,
            "grid_column": null,
            "overflow_y": null,
            "overflow_x": null,
            "grid_auto_flow": null,
            "grid_area": null,
            "grid_template_columns": null,
            "flex": null,
            "_model_name": "LayoutModel",
            "justify_items": null,
            "grid_row": null,
            "max_height": null,
            "align_content": null,
            "visibility": null,
            "align_self": null,
            "height": null,
            "min_height": null,
            "padding": null,
            "grid_auto_rows": null,
            "grid_gap": null,
            "max_width": null,
            "order": null,
            "_view_module_version": "1.2.0",
            "grid_template_areas": null,
            "object_position": null,
            "object_fit": null,
            "grid_auto_columns": null,
            "margin": null,
            "display": null,
            "left": null
          }
        },
        "3361701d9529437ebe2359b4301881db": {
          "model_module": "@jupyter-widgets/controls",
          "model_name": "HBoxModel",
          "state": {
            "_view_name": "HBoxView",
            "_dom_classes": [],
            "_model_name": "HBoxModel",
            "_view_module": "@jupyter-widgets/controls",
            "_model_module_version": "1.5.0",
            "_view_count": null,
            "_view_module_version": "1.5.0",
            "box_style": "",
            "layout": "IPY_MODEL_9171b5142c3744899d9e1bfe7aff805b",
            "_model_module": "@jupyter-widgets/controls",
            "children": [
              "IPY_MODEL_5edb76db498341df8fabccf8124e2f0c",
              "IPY_MODEL_bbddab63e1cc4900be6685cb14fdd194"
            ]
          }
        },
        "9171b5142c3744899d9e1bfe7aff805b": {
          "model_module": "@jupyter-widgets/base",
          "model_name": "LayoutModel",
          "state": {
            "_view_name": "LayoutView",
            "grid_template_rows": null,
            "right": null,
            "justify_content": null,
            "_view_module": "@jupyter-widgets/base",
            "overflow": null,
            "_model_module_version": "1.2.0",
            "_view_count": null,
            "flex_flow": null,
            "width": null,
            "min_width": null,
            "border": null,
            "align_items": null,
            "bottom": null,
            "_model_module": "@jupyter-widgets/base",
            "top": null,
            "grid_column": null,
            "overflow_y": null,
            "overflow_x": null,
            "grid_auto_flow": null,
            "grid_area": null,
            "grid_template_columns": null,
            "flex": null,
            "_model_name": "LayoutModel",
            "justify_items": null,
            "grid_row": null,
            "max_height": null,
            "align_content": null,
            "visibility": null,
            "align_self": null,
            "height": null,
            "min_height": null,
            "padding": null,
            "grid_auto_rows": null,
            "grid_gap": null,
            "max_width": null,
            "order": null,
            "_view_module_version": "1.2.0",
            "grid_template_areas": null,
            "object_position": null,
            "object_fit": null,
            "grid_auto_columns": null,
            "margin": null,
            "display": null,
            "left": null
          }
        },
        "5edb76db498341df8fabccf8124e2f0c": {
          "model_module": "@jupyter-widgets/controls",
          "model_name": "FloatProgressModel",
          "state": {
            "_view_name": "ProgressView",
            "style": "IPY_MODEL_1c51772c47874f988f91f7ca29cfeb22",
            "_dom_classes": [],
            "description": "Epoch: [3/110]:  24%",
            "_model_name": "FloatProgressModel",
            "bar_style": "",
            "max": 282,
            "_view_module": "@jupyter-widgets/controls",
            "_model_module_version": "1.5.0",
            "value": 68,
            "_view_count": null,
            "_view_module_version": "1.5.0",
            "orientation": "horizontal",
            "min": 0,
            "description_tooltip": null,
            "_model_module": "@jupyter-widgets/controls",
            "layout": "IPY_MODEL_2a1aa21fff6c46efa54ecadc8567f169"
          }
        },
        "bbddab63e1cc4900be6685cb14fdd194": {
          "model_module": "@jupyter-widgets/controls",
          "model_name": "HTMLModel",
          "state": {
            "_view_name": "HTMLView",
            "style": "IPY_MODEL_3754421893ce4fc3b24711ec4480fd05",
            "_dom_classes": [],
            "description": "",
            "_model_name": "HTMLModel",
            "placeholder": "​",
            "_view_module": "@jupyter-widgets/controls",
            "_model_module_version": "1.5.0",
            "value": " 68/282 [00:38&lt;01:49,  1.95it/s]",
            "_view_count": null,
            "_view_module_version": "1.5.0",
            "description_tooltip": null,
            "_model_module": "@jupyter-widgets/controls",
            "layout": "IPY_MODEL_92628b48f1a94f8d8f6da507febfaefc"
          }
        },
        "1c51772c47874f988f91f7ca29cfeb22": {
          "model_module": "@jupyter-widgets/controls",
          "model_name": "ProgressStyleModel",
          "state": {
            "_view_name": "StyleView",
            "_model_name": "ProgressStyleModel",
            "description_width": "initial",
            "_view_module": "@jupyter-widgets/base",
            "_model_module_version": "1.5.0",
            "_view_count": null,
            "_view_module_version": "1.2.0",
            "bar_color": null,
            "_model_module": "@jupyter-widgets/controls"
          }
        },
        "2a1aa21fff6c46efa54ecadc8567f169": {
          "model_module": "@jupyter-widgets/base",
          "model_name": "LayoutModel",
          "state": {
            "_view_name": "LayoutView",
            "grid_template_rows": null,
            "right": null,
            "justify_content": null,
            "_view_module": "@jupyter-widgets/base",
            "overflow": null,
            "_model_module_version": "1.2.0",
            "_view_count": null,
            "flex_flow": null,
            "width": null,
            "min_width": null,
            "border": null,
            "align_items": null,
            "bottom": null,
            "_model_module": "@jupyter-widgets/base",
            "top": null,
            "grid_column": null,
            "overflow_y": null,
            "overflow_x": null,
            "grid_auto_flow": null,
            "grid_area": null,
            "grid_template_columns": null,
            "flex": null,
            "_model_name": "LayoutModel",
            "justify_items": null,
            "grid_row": null,
            "max_height": null,
            "align_content": null,
            "visibility": null,
            "align_self": null,
            "height": null,
            "min_height": null,
            "padding": null,
            "grid_auto_rows": null,
            "grid_gap": null,
            "max_width": null,
            "order": null,
            "_view_module_version": "1.2.0",
            "grid_template_areas": null,
            "object_position": null,
            "object_fit": null,
            "grid_auto_columns": null,
            "margin": null,
            "display": null,
            "left": null
          }
        },
        "3754421893ce4fc3b24711ec4480fd05": {
          "model_module": "@jupyter-widgets/controls",
          "model_name": "DescriptionStyleModel",
          "state": {
            "_view_name": "StyleView",
            "_model_name": "DescriptionStyleModel",
            "description_width": "",
            "_view_module": "@jupyter-widgets/base",
            "_model_module_version": "1.5.0",
            "_view_count": null,
            "_view_module_version": "1.2.0",
            "_model_module": "@jupyter-widgets/controls"
          }
        },
        "92628b48f1a94f8d8f6da507febfaefc": {
          "model_module": "@jupyter-widgets/base",
          "model_name": "LayoutModel",
          "state": {
            "_view_name": "LayoutView",
            "grid_template_rows": null,
            "right": null,
            "justify_content": null,
            "_view_module": "@jupyter-widgets/base",
            "overflow": null,
            "_model_module_version": "1.2.0",
            "_view_count": null,
            "flex_flow": null,
            "width": null,
            "min_width": null,
            "border": null,
            "align_items": null,
            "bottom": null,
            "_model_module": "@jupyter-widgets/base",
            "top": null,
            "grid_column": null,
            "overflow_y": null,
            "overflow_x": null,
            "grid_auto_flow": null,
            "grid_area": null,
            "grid_template_columns": null,
            "flex": null,
            "_model_name": "LayoutModel",
            "justify_items": null,
            "grid_row": null,
            "max_height": null,
            "align_content": null,
            "visibility": null,
            "align_self": null,
            "height": null,
            "min_height": null,
            "padding": null,
            "grid_auto_rows": null,
            "grid_gap": null,
            "max_width": null,
            "order": null,
            "_view_module_version": "1.2.0",
            "grid_template_areas": null,
            "object_position": null,
            "object_fit": null,
            "grid_auto_columns": null,
            "margin": null,
            "display": null,
            "left": null
          }
        },
        "f9c13d4e02e945b3bd44602e298a6cc1": {
          "model_module": "@jupyter-widgets/controls",
          "model_name": "VBoxModel",
          "state": {
            "_view_name": "VBoxView",
            "_dom_classes": [],
            "_model_name": "VBoxModel",
            "_view_module": "@jupyter-widgets/controls",
            "_model_module_version": "1.5.0",
            "_view_count": null,
            "_view_module_version": "1.5.0",
            "box_style": "",
            "layout": "IPY_MODEL_a48a07ef982843aa91fd7a264f7b2f81",
            "_model_module": "@jupyter-widgets/controls",
            "children": [
              "IPY_MODEL_e966fb5f511f49068ceed9556893eb4f",
              "IPY_MODEL_840b0ce708694db5be54c2a8b9d35560"
            ]
          }
        },
        "a48a07ef982843aa91fd7a264f7b2f81": {
          "model_module": "@jupyter-widgets/base",
          "model_name": "LayoutModel",
          "state": {
            "_view_name": "LayoutView",
            "grid_template_rows": null,
            "right": null,
            "justify_content": null,
            "_view_module": "@jupyter-widgets/base",
            "overflow": null,
            "_model_module_version": "1.2.0",
            "_view_count": null,
            "flex_flow": null,
            "width": null,
            "min_width": null,
            "border": null,
            "align_items": null,
            "bottom": null,
            "_model_module": "@jupyter-widgets/base",
            "top": null,
            "grid_column": null,
            "overflow_y": null,
            "overflow_x": null,
            "grid_auto_flow": null,
            "grid_area": null,
            "grid_template_columns": null,
            "flex": null,
            "_model_name": "LayoutModel",
            "justify_items": null,
            "grid_row": null,
            "max_height": null,
            "align_content": null,
            "visibility": null,
            "align_self": null,
            "height": null,
            "min_height": null,
            "padding": null,
            "grid_auto_rows": null,
            "grid_gap": null,
            "max_width": null,
            "order": null,
            "_view_module_version": "1.2.0",
            "grid_template_areas": null,
            "object_position": null,
            "object_fit": null,
            "grid_auto_columns": null,
            "margin": null,
            "display": null,
            "left": null
          }
        },
        "e966fb5f511f49068ceed9556893eb4f": {
          "model_module": "@jupyter-widgets/controls",
          "model_name": "LabelModel",
          "state": {
            "_view_name": "LabelView",
            "style": "IPY_MODEL_54033263f5874887bbe253c4ceb14a43",
            "_dom_classes": [],
            "description": "",
            "_model_name": "LabelModel",
            "placeholder": "​",
            "_view_module": "@jupyter-widgets/controls",
            "_model_module_version": "1.5.0",
            "value": " 7.41MB of 7.41MB uploaded (0.00MB deduped)\r",
            "_view_count": null,
            "_view_module_version": "1.5.0",
            "description_tooltip": null,
            "_model_module": "@jupyter-widgets/controls",
            "layout": "IPY_MODEL_89924effe9a14c3f819937c2c6250e9a"
          }
        },
        "840b0ce708694db5be54c2a8b9d35560": {
          "model_module": "@jupyter-widgets/controls",
          "model_name": "FloatProgressModel",
          "state": {
            "_view_name": "ProgressView",
            "style": "IPY_MODEL_4321e07b726242868ae5d118875dd9ee",
            "_dom_classes": [],
            "description": "",
            "_model_name": "FloatProgressModel",
            "bar_style": "",
            "max": 1,
            "_view_module": "@jupyter-widgets/controls",
            "_model_module_version": "1.5.0",
            "value": 1,
            "_view_count": null,
            "_view_module_version": "1.5.0",
            "orientation": "horizontal",
            "min": 0,
            "description_tooltip": null,
            "_model_module": "@jupyter-widgets/controls",
            "layout": "IPY_MODEL_8bb6282970a84b22a778b68dfd80217a"
          }
        },
        "54033263f5874887bbe253c4ceb14a43": {
          "model_module": "@jupyter-widgets/controls",
          "model_name": "DescriptionStyleModel",
          "state": {
            "_view_name": "StyleView",
            "_model_name": "DescriptionStyleModel",
            "description_width": "",
            "_view_module": "@jupyter-widgets/base",
            "_model_module_version": "1.5.0",
            "_view_count": null,
            "_view_module_version": "1.2.0",
            "_model_module": "@jupyter-widgets/controls"
          }
        },
        "89924effe9a14c3f819937c2c6250e9a": {
          "model_module": "@jupyter-widgets/base",
          "model_name": "LayoutModel",
          "state": {
            "_view_name": "LayoutView",
            "grid_template_rows": null,
            "right": null,
            "justify_content": null,
            "_view_module": "@jupyter-widgets/base",
            "overflow": null,
            "_model_module_version": "1.2.0",
            "_view_count": null,
            "flex_flow": null,
            "width": null,
            "min_width": null,
            "border": null,
            "align_items": null,
            "bottom": null,
            "_model_module": "@jupyter-widgets/base",
            "top": null,
            "grid_column": null,
            "overflow_y": null,
            "overflow_x": null,
            "grid_auto_flow": null,
            "grid_area": null,
            "grid_template_columns": null,
            "flex": null,
            "_model_name": "LayoutModel",
            "justify_items": null,
            "grid_row": null,
            "max_height": null,
            "align_content": null,
            "visibility": null,
            "align_self": null,
            "height": null,
            "min_height": null,
            "padding": null,
            "grid_auto_rows": null,
            "grid_gap": null,
            "max_width": null,
            "order": null,
            "_view_module_version": "1.2.0",
            "grid_template_areas": null,
            "object_position": null,
            "object_fit": null,
            "grid_auto_columns": null,
            "margin": null,
            "display": null,
            "left": null
          }
        },
        "4321e07b726242868ae5d118875dd9ee": {
          "model_module": "@jupyter-widgets/controls",
          "model_name": "ProgressStyleModel",
          "state": {
            "_view_name": "StyleView",
            "_model_name": "ProgressStyleModel",
            "description_width": "",
            "_view_module": "@jupyter-widgets/base",
            "_model_module_version": "1.5.0",
            "_view_count": null,
            "_view_module_version": "1.2.0",
            "bar_color": null,
            "_model_module": "@jupyter-widgets/controls"
          }
        },
        "8bb6282970a84b22a778b68dfd80217a": {
          "model_module": "@jupyter-widgets/base",
          "model_name": "LayoutModel",
          "state": {
            "_view_name": "LayoutView",
            "grid_template_rows": null,
            "right": null,
            "justify_content": null,
            "_view_module": "@jupyter-widgets/base",
            "overflow": null,
            "_model_module_version": "1.2.0",
            "_view_count": null,
            "flex_flow": null,
            "width": null,
            "min_width": null,
            "border": null,
            "align_items": null,
            "bottom": null,
            "_model_module": "@jupyter-widgets/base",
            "top": null,
            "grid_column": null,
            "overflow_y": null,
            "overflow_x": null,
            "grid_auto_flow": null,
            "grid_area": null,
            "grid_template_columns": null,
            "flex": null,
            "_model_name": "LayoutModel",
            "justify_items": null,
            "grid_row": null,
            "max_height": null,
            "align_content": null,
            "visibility": null,
            "align_self": null,
            "height": null,
            "min_height": null,
            "padding": null,
            "grid_auto_rows": null,
            "grid_gap": null,
            "max_width": null,
            "order": null,
            "_view_module_version": "1.2.0",
            "grid_template_areas": null,
            "object_position": null,
            "object_fit": null,
            "grid_auto_columns": null,
            "margin": null,
            "display": null,
            "left": null
          }
        }
      }
    }
  },
  "cells": [
    {
      "cell_type": "code",
      "metadata": {
        "id": "wJjbUObgPtPI",
        "colab": {
          "base_uri": "https://localhost:8080/"
        },
        "outputId": "dd4cc6ff-63c5-4976-d722-a93cfe0c4f08"
      },
      "source": [
        "!nvidia-smi"
      ],
      "execution_count": 1,
      "outputs": [
        {
          "output_type": "stream",
          "text": [
            "Sat Feb 13 11:58:02 2021       \n",
            "+-----------------------------------------------------------------------------+\n",
            "| NVIDIA-SMI 460.39       Driver Version: 460.32.03    CUDA Version: 11.2     |\n",
            "|-------------------------------+----------------------+----------------------+\n",
            "| GPU  Name        Persistence-M| Bus-Id        Disp.A | Volatile Uncorr. ECC |\n",
            "| Fan  Temp  Perf  Pwr:Usage/Cap|         Memory-Usage | GPU-Util  Compute M. |\n",
            "|                               |                      |               MIG M. |\n",
            "|===============================+======================+======================|\n",
            "|   0  Tesla P100-PCIE...  Off  | 00000000:00:04.0 Off |                    0 |\n",
            "| N/A   55C    P0    41W / 250W |      0MiB / 16280MiB |      0%      Default |\n",
            "|                               |                      |                  N/A |\n",
            "+-------------------------------+----------------------+----------------------+\n",
            "                                                                               \n",
            "+-----------------------------------------------------------------------------+\n",
            "| Processes:                                                                  |\n",
            "|  GPU   GI   CI        PID   Type   Process name                  GPU Memory |\n",
            "|        ID   ID                                                   Usage      |\n",
            "|=============================================================================|\n",
            "|  No running processes found                                                 |\n",
            "+-----------------------------------------------------------------------------+\n"
          ],
          "name": "stdout"
        }
      ]
    },
    {
      "cell_type": "code",
      "metadata": {
        "colab": {
          "base_uri": "https://localhost:8080/"
        },
        "id": "sC2k_l6A9eJS",
        "outputId": "f59a4c76-097a-4320-e9e9-9681035e4bb0"
      },
      "source": [
        "!pip uninstall fastai -y\r\n",
        "!pip install fastai -qU\r\n",
        "\r\n",
        "import fastai\r\n",
        "print(fastai.__version__)"
      ],
      "execution_count": 2,
      "outputs": [
        {
          "output_type": "stream",
          "text": [
            "Uninstalling fastai-2.2.5:\n",
            "  Successfully uninstalled fastai-2.2.5\n",
            "2.2.5\n"
          ],
          "name": "stdout"
        }
      ]
    },
    {
      "cell_type": "code",
      "metadata": {
        "colab": {
          "base_uri": "https://localhost:8080/"
        },
        "id": "1S_KF6DM0tF9",
        "outputId": "abe344da-6bde-43e8-c807-b9e7ee5bb33f"
      },
      "source": [
        "from google.colab import drive\n",
        "drive.mount('/content/drive')"
      ],
      "execution_count": 2,
      "outputs": [
        {
          "output_type": "stream",
          "text": [
            "Drive already mounted at /content/drive; to attempt to forcibly remount, call drive.mount(\"/content/drive\", force_remount=True).\n"
          ],
          "name": "stdout"
        }
      ]
    },
    {
      "cell_type": "code",
      "metadata": {
        "id": "EyZEyKsNx3DB",
        "cellView": "form"
      },
      "source": [
        "# @title old dataset\r\n",
        "# import os\r\n",
        "# import shutil\r\n",
        "# import time\r\n",
        "# from google_drive_downloader import GoogleDriveDownloader as gdd\r\n",
        "\r\n",
        "# if not os.path.exists(\"/content/images/valid.zip\"):\r\n",
        "#     # https://drive.google.com/file/d/1bXD5hR5WlIB6LsqDHmNn29EMA43Z82f3/view?usp=sharing\r\n",
        "#     gdd.download_file_from_google_drive(file_id='1bXD5hR5WlIB6LsqDHmNn29EMA43Z82f3',\r\n",
        "#                                         dest_path='./images/valid.zip',\r\n",
        "#                                         unzip=True,\r\n",
        "#                                         showsize=True,\r\n",
        "#                                         )\r\n",
        "#     # !rm -rf /content/images/valid.zip\r\n",
        "\r\n",
        "# # download scripts\r\n",
        "\r\n",
        "# !rm -rf *.py\r\n",
        "# !rm -rf *.zip\r\n",
        "# time.sleep(1)\r\n",
        "# !wget -q https://github.com/veb-101/GAN-Colorisation/archive/master.zip\r\n",
        "# !unzip -qq -o /content/master.zip \r\n",
        "# !mv ./GAN-Colorisation-master/trainer.py ./trainer.py\r\n",
        "# !mv ./GAN-Colorisation-master/utils.py ./utils.py\r\n",
        "# !mv ./GAN-Colorisation-master/model.py ./model.py\r\n",
        "# !mv ./GAN-Colorisation-master/data_loader.py ./data_loader.py\r\n",
        "# !rm -rf /content/GAN-Colorisation-master\r\n",
        "\r\n",
        "\r\n",
        "\r\n",
        "# if not os.path.exists(\"/content/images/train.zip\"):\r\n",
        "#     # https://drive.google.com/file/d/1c5WQwglbVL9S_LHH5E9XU9bCWLzZg_V7/view?usp=sharing\r\n",
        "#     gdd.download_file_from_google_drive(file_id='1c5WQwglbVL9S_LHH5E9XU9bCWLzZg_V7',\r\n",
        "#                                         dest_path='./images/train.zip',\r\n",
        "#                                         unzip=True,\r\n",
        "#                                         showsize=True,\r\n",
        "#                                         )\r\n",
        "#     # !rm -rf /content/images/train.zip"
      ],
      "execution_count": 4,
      "outputs": []
    },
    {
      "cell_type": "code",
      "metadata": {
        "id": "XuzZ3gy_mh-f",
        "cellView": "form"
      },
      "source": [
        "#@title Download datasets and scripts\r\n",
        "\r\n",
        "import os\r\n",
        "import shutil\r\n",
        "import time\r\n",
        "from google_drive_downloader import GoogleDriveDownloader as gdd\r\n",
        "\r\n",
        "\r\n",
        "time.sleep(1)\r\n",
        "\r\n",
        "if not os.path.exists(\"/content/GAN-Colorisation\"):\r\n",
        "    # !rm -rf *.py\r\n",
        "    !git clone -b new_training https://github.com/veb-101/GAN-Colorisation.git\r\n",
        "\r\n",
        "    for file in os.listdir(\"/content/GAN-Colorisation\"):\r\n",
        "        if not os.path.isdir(os.path.join(\"/content/GAN-Colorisation\", file)):\r\n",
        "            shutil.copyfile(os.path.join(\"/content/GAN-Colorisation\", file), f\"/content/{file}\")\r\n",
        "\r\n",
        "#     # !rm -rf /content/GAN-Colorisation\r\n",
        "\r\n",
        "\r\n",
        "\r\n",
        "# https://drive.google.com/file/d/1rDE8V7FuvTtyhxJ1MyJUrMeYvvoG0gCT/view?usp=sharing\r\n",
        "if not os.path.exists(\"images.zip\"):\r\n",
        "    gdd.download_file_from_google_drive(file_id='1rDE8V7FuvTtyhxJ1MyJUrMeYvvoG0gCT',\r\n",
        "                                        dest_path='./images.zip',\r\n",
        "                                        unzip=True,\r\n",
        "                                        showsize=True,\r\n",
        "                                        )"
      ],
      "execution_count": 3,
      "outputs": []
    },
    {
      "cell_type": "code",
      "metadata": {
        "id": "OUCmEAeQnqOq",
        "colab": {
          "base_uri": "https://localhost:8080/"
        },
        "outputId": "028b43f8-1c80-4d47-c66f-f2fc0b0a5e99"
      },
      "source": [
        "!pip install -qU wandb\r\n",
        "!wandb login 984196dfc7bc6ae6093fed3667fd5da413300d29"
      ],
      "execution_count": 6,
      "outputs": [
        {
          "output_type": "stream",
          "text": [
            "\u001b[34m\u001b[1mwandb\u001b[0m: Appending key for api.wandb.ai to your netrc file: /root/.netrc\n"
          ],
          "name": "stdout"
        }
      ]
    },
    {
      "cell_type": "code",
      "metadata": {
        "ExecuteTime": {
          "end_time": "2021-01-27T18:42:27.570244Z",
          "start_time": "2021-01-27T18:42:21.959937Z"
        },
        "id": "XG_w56WAx1a4",
        "cellView": "form"
      },
      "source": [
        "#@title setup\n",
        "\n",
        "import os\n",
        "import gc\n",
        "import random\n",
        "import shutil\n",
        "import warnings\n",
        "import importlib\n",
        "import numpy as np\n",
        "from tqdm.notebook import tqdm\n",
        "import wandb\n",
        "\n",
        "\n",
        "\n",
        "import torch\n",
        "import torch.nn as nn\n",
        "import torch.optim as optim\n",
        "from torch.cuda.amp import autocast, GradScaler\n",
        "\n",
        "import utils\n",
        "import data_loader\n",
        "\n",
        "importlib.reload(utils)\n",
        "importlib.reload(data_loader)\n",
        "\n",
        "\n",
        "from utils import init_model\n",
        "from data_loader import make_dataloaders\n",
        "from utils import update_losses, visualize\n",
        "from utils import init_model, AverageMeter\n",
        "from utils import create_loss_meters, log_results\n",
        "\n",
        "seed = 41\n",
        "random.seed(seed)\n",
        "np.random.seed(seed)\n",
        "torch.manual_seed(seed)\n",
        "\n",
        "\n",
        "\n",
        "def get_default_device():\n",
        "    \"\"\"Pick GPU if available, else CPU\"\"\"\n",
        "    if torch.cuda.is_available():\n",
        "        return torch.device(\"cuda\")\n",
        "    return torch.device(\"cpu\")\n",
        "\n",
        "device = get_default_device()\n",
        "\n",
        "warnings.simplefilter(\"ignore\", UserWarning)"
      ],
      "execution_count": 4,
      "outputs": []
    },
    {
      "cell_type": "markdown",
      "metadata": {
        "id": "o15GLHu5QVRB"
      },
      "source": [
        "## Pretrain Generator"
      ]
    },
    {
      "cell_type": "code",
      "metadata": {
        "ExecuteTime": {
          "end_time": "2021-01-28T06:46:41.145932Z",
          "start_time": "2021-01-28T06:46:41.139971Z"
        },
        "id": "ONnUSePzx1bE"
      },
      "source": [
        "def pretrain_generator(train_dl, valid_dl, net, scaler, opt, criterion, start_epoch, epochs, device=None):\n",
        "    savedir_train = \"/content/warmup_train/train\"\n",
        "    savedir_val = \"/content/warmup_train/validation\"\n",
        "    drive_path = \"/content/drive/MyDrive/Project-Colorisation\"\n",
        "    os.makedirs(savedir_train, exist_ok=True)\n",
        "    os.makedirs(savedir_val, exist_ok=True)\n",
        "    os.makedirs(drive_path, exist_ok=True)\n",
        "\n",
        "    lr_scheduler = torch.optim.lr_scheduler.MultiStepLR(\n",
        "        opt,\n",
        "        [30, 60, 90]  \n",
        "    ) \n",
        "\n",
        "    for e in range(start_epoch, start_epoch+epochs):\n",
        "        loss_meter = AverageMeter()\n",
        "        psnr_val = []\n",
        "        ssim_val = []\n",
        "        training_loader_iter = iter(train_dl)\n",
        "        length_train = len(training_loader_iter)\n",
        "        \n",
        "        net.train()\n",
        "        \n",
        "        torch.cuda.empty_cache()\n",
        "        gc.collect()\n",
        "        for i in tqdm(range(length_train), desc=f\"Epoch: [{e}/{start_epoch+epochs-1}]\"):\n",
        "            data = next(training_loader_iter)\n",
        "\n",
        "            opt.zero_grad()\n",
        "            L, ab = data['L'].to(device), data['ab'].to(device)\n",
        "\n",
        "            with autocast():\n",
        "                preds = net(L)\n",
        "                loss = criterion(preds, ab)\n",
        "            \n",
        "            scaler.scale(loss).backward()\n",
        "            scaler.step(opt)\n",
        "            scale_gen = scaler.get_scale()\n",
        "            scaler.update()\n",
        "            skip_lr_sched = scale_gen != scaler.get_scale()\n",
        "\n",
        "            # loss.backward()\n",
        "            # opt.step()\n",
        "            loss_meter.update(loss.detach().item(), L.size(0))\n",
        "            torch.cuda.empty_cache()\n",
        "            gc.collect()\n",
        "            \n",
        "            if i == 0 or i == int(length_train / 2) or i == (length_train - 1):\n",
        "                print(f\"Iteration:[{i+1}/{length_train}] L1 Loss: [{loss_meter.avg:.5f}]\")\n",
        "                _, _ = visualize(net, \n",
        "                        data, \n",
        "                        save_name=os.path.join(savedir_train, f\"Train_Epoch_{e}-{i}.png\"), \n",
        "                        device=device)\n",
        "            \n",
        "\n",
        "        training_epoch_loss = round(loss_meter.avg, 4)\n",
        "        wandb.log({\n",
        "            \"epoch\": e,\n",
        "            \"train_loss\": training_epoch_loss,\n",
        "        })\n",
        "        \n",
        "        for idx, valid_data in enumerate(valid_dl):\n",
        "            psnr_batch, ssim_batch_ = visualize(net, \n",
        "                                                valid_data, \n",
        "                                                save_name=os.path.join(savedir_val, f\"Validation_Epoch_{e}-{idx}.png\"), \n",
        "                                                device=device)\n",
        "            \n",
        "            psnr_val.append(psnr_batch)\n",
        "            ssim_val.append(ssim_batch_)\n",
        "        \n",
        "        print(f\"Validation PSNR: {sum(psnr_val)/len(psnr_val):.5}, SSIM: {sum(ssim_val)/len(ssim_val):.5}\")\n",
        "\n",
        "        wandb.log({\n",
        "            \"epoch\": e,\n",
        "            \"valid_PSNR\": round(sum(psnr_val)/len(psnr_val), 5),\n",
        "            \"valid_SSIM\": round(sum(ssim_val)/len(ssim_val), 5),\n",
        "        })\n",
        "        wandb.log({\n",
        "            \"validation_images\": wandb.Image(\n",
        "                os.path.join(savedir_val, f\"Validation_Epoch_{e}-0.png\")),\n",
        "        })\n",
        "        \n",
        "        if not skip_lr_sched:\n",
        "            lr_scheduler.step()\n",
        "        \n",
        "        file_name = f\"warm_checkpoint_{e}.tar\"\n",
        "        torch.save({\n",
        "            \"epoch\": e,\n",
        "            \"net_G\": net.state_dict(),\n",
        "            \"opt_G\": opt.state_dict(),\n",
        "            \"scaler_G\": scaler.state_dict(),\n",
        "        }, file_name)\n",
        "        \n",
        "        shutil.copyfile(file_name, os.path.join(drive_path, file_name))\n",
        "\n",
        "        remove_file_name = f\"/content/warm_checkpoint_{e-1}.tar\"\n",
        "        remove_drive_file_name = f\"/content/drive/MyDrive/Project-Colorisation/warm_checkpoint_{e-1}.tar\"\n",
        "        try:\n",
        "          os.remove(remove_file_name)\n",
        "          os.remove(remove_drive_file_name)\n",
        "        except:\n",
        "          pass"
      ],
      "execution_count": 5,
      "outputs": []
    },
    {
      "cell_type": "markdown",
      "metadata": {
        "id": "CKSeADGgSuj4"
      },
      "source": [
        "## Train Gan"
      ]
    },
    {
      "cell_type": "code",
      "metadata": {
        "id": "sJJ9Im3p6_iC"
      },
      "source": [
        "def train_model(model, train_dl, valid_dl, start_epoch, epochs):\r\n",
        "\r\n",
        "    savedir_train = \"/content/gan_train/train\"\r\n",
        "    savedir_val = \"/content/gan_train/validation\"\r\n",
        "    drive_path = \"/content/drive/MyDrive/Project-Colorisation\"\r\n",
        "    os.makedirs(savedir_train, exist_ok=True)\r\n",
        "    os.makedirs(savedir_val, exist_ok=True)\r\n",
        "    os.makedirs(drive_path, exist_ok=True)\r\n",
        "\r\n",
        "    scheduler_G = torch.optim.lr_scheduler.ReduceLROnPlateau(model.opt_G,\r\n",
        "                                                             mode=\"min\",\r\n",
        "                                                             factor=0.1,\r\n",
        "                                                             patience=4,\r\n",
        "                                                             threshold=1e-3,\r\n",
        "                                                             cooldown=2,\r\n",
        "                    )\r\n",
        "    \r\n",
        "    scheduler_D = torch.optim.lr_scheduler.ReduceLROnPlateau(model.opt_D,\r\n",
        "                                                             mode=\"min\",\r\n",
        "                                                             factor=0.1,\r\n",
        "                                                             patience=4,\r\n",
        "                                                             threshold=1e-3,\r\n",
        "                                                             cooldown=2,\r\n",
        "                    )\r\n",
        "\r\n",
        "\r\n",
        "    for e in range(start_epoch, start_epoch+epochs):\r\n",
        "        loss_meter_dict = create_loss_meters()\r\n",
        "        psnr_val = []\r\n",
        "        ssim_val = []\r\n",
        "        training_loader_iter = iter(train_dl)\r\n",
        "        length_train = len(training_loader_iter)\r\n",
        "        \r\n",
        "        for i in tqdm(range(length_train), desc=f\"Epoch: [{e}/{start_epoch+epochs-1}]\"):\r\n",
        "            data = next(training_loader_iter)\r\n",
        "            model.setup_input(data)\r\n",
        "            update_LR_G, update_LR_D = model.optimize()\r\n",
        "\r\n",
        "            loss_G_epoch = loss_meter_dict[\"loss_G\"]\r\n",
        "            loss_D_epoch = loss_meter_dict[\"loss_D\"]\r\n",
        "            \r\n",
        "            # function updating the log objects\r\n",
        "            update_losses(model, loss_meter_dict, count=data[\"L\"].size(0)) \r\n",
        "            \r\n",
        "            if i == 0 or i == int(length_train / 2) or i == (length_train - 1):\r\n",
        "                print(f\"Iteration:[{i+1}/{length_train}]\", end=\" \")\r\n",
        "                # function to print out the losses\r\n",
        "                log_results(loss_meter_dict)  \r\n",
        "                _, _ = visualize(model, \r\n",
        "                        data, \r\n",
        "                        save_name=os.path.join(savedir_train, f\"Train_Epoch_{e}-{i}.png\"), \r\n",
        "                        device=device)\r\n",
        "            \r\n",
        "        for idx, valid_data in enumerate(valid_dl):\r\n",
        "            psnr_batch, ssim_batch_ = visualize(model, \r\n",
        "                                                valid_data, \r\n",
        "                                                save_name=os.path.join(savedir_val, f\"Validation_Epoch_{e}-{idx}.png\"), \r\n",
        "                                                device=device)\r\n",
        "            \r\n",
        "            psnr_val.append(psnr_batch)\r\n",
        "            ssim_val.append(ssim_batch_)\r\n",
        "        \r\n",
        "        print(f\"Validation PSNR: {sum(psnr_val)/len(psnr_val):.5}, SSIM: {sum(ssim_val)/len(ssim_val):.5}\")\r\n",
        "\r\n",
        "\r\n",
        "        file_name = f\"gan_checkpoint_{e}.tar\"\r\n",
        "        torch.save({\r\n",
        "            \"epoch\": e,\r\n",
        "            \"net_G\": model.net_G.state_dict(),\r\n",
        "            \"opt_G\": model.opt_G.state_dict(),\r\n",
        "            \"scaler_G\": model.scaler_G.state_dict(),\r\n",
        "            \"net_D\": model.net_D.state_dict(),\r\n",
        "            \"opt_D\": model.opt_D.state_dict(),\r\n",
        "            \"scaler_D\": model.scaler_D.state_dict(),\r\n",
        "        }, file_name)\r\n",
        "\r\n",
        "        remove_file_name = f\"/content/gan_checkpoint_{e-1}.tar\"\r\n",
        "        remove_drive_file_name = f\"/content/drive/MyDrive/Project-Colorisation/gan_checkpoint_{e-1}.tar\"\r\n",
        "        try:\r\n",
        "          os.remove(remove_file_name)\r\n",
        "          os.remove(remove_drive_file_name)\r\n",
        "        except:\r\n",
        "          pass"
      ],
      "execution_count": 6,
      "outputs": []
    },
    {
      "cell_type": "markdown",
      "metadata": {
        "id": "gMQNo7PxSzmn"
      },
      "source": [
        "## Training Setup"
      ]
    },
    {
      "cell_type": "code",
      "metadata": {
        "ExecuteTime": {
          "end_time": "2021-01-27T18:43:02.033511Z",
          "start_time": "2021-01-27T18:43:02.017421Z"
        },
        "colab": {
          "base_uri": "https://localhost:8080/"
        },
        "id": "0sCTOIdhx1bC",
        "cellView": "form",
        "outputId": "a1718704-84fc-416e-dc55-6dca3e63eff7"
      },
      "source": [
        "#@title Dataloaders \n",
        "num_images_train =   9000#@param {type:\"integer\"}\n",
        "num_images_valid =  -1 #@param {type:\"integer\"}\n",
        "batch_size =  32#@param {type:\"integer\"}\n",
        "image_size =  128#@param {type:\"integer\"}\n",
        "\n",
        "\n",
        "if __name__ == \"__main__\":\n",
        "    train_ = \"/content/train\"\n",
        "    valid_ = \"/content/valid\"\n",
        "    device = get_default_device()\n",
        "    train_dl = make_dataloaders(path=train_, \n",
        "                                size=image_size,\n",
        "                                num_images=num_images_train, \n",
        "                                batch_size=batch_size,\n",
        "                                is_training=True,\n",
        "                                shuffle=True\n",
        "                                )\n",
        "    \n",
        "    valid_dl = make_dataloaders(path=valid_, \n",
        "                                size=image_size,\n",
        "                                num_images=num_images_valid, \n",
        "                                batch_size=batch_size,\n",
        "                                is_training=False, \n",
        "                                shuffle=False, \n",
        "                                )\n",
        "        \n",
        "    print(f\"Number of batches ::Train:: {len(train_dl)}, ::Valid:: {len(valid_dl)}\")"
      ],
      "execution_count": 9,
      "outputs": [
        {
          "output_type": "stream",
          "text": [
            "Number of batches ::Train:: 282, ::Valid:: 4\n"
          ],
          "name": "stdout"
        }
      ]
    },
    {
      "cell_type": "code",
      "metadata": {
        "id": "KQfQdahOx1bF"
      },
      "source": [
        "config = {\n",
        "    \"lr_G\": 1e-4,\n",
        "    \"lr_D\": 4e-4,\n",
        "    \"beta1\": 0.5,\n",
        "    \"beta2\": 0.999,\n",
        "    \"perceptual_loss_factor\": 1.0,\n",
        "    \"adversarial_loss_factor\": 5e-3,\n",
        "    \"lambda_L1\": 100.0,\n",
        "    \"load_previous\": True\n",
        "}"
      ],
      "execution_count": 10,
      "outputs": []
    },
    {
      "cell_type": "code",
      "metadata": {
        "id": "sFM75m3hn7vD",
        "colab": {
          "base_uri": "https://localhost:8080/",
          "height": 134
        },
        "outputId": "25af38d6-cf5c-4746-cca8-991f5c42cc65"
      },
      "source": [
        "import wandb\r\n",
        "run = wandb.init(project=\"image-colorization\")"
      ],
      "execution_count": 11,
      "outputs": [
        {
          "output_type": "stream",
          "text": [
            "\u001b[34m\u001b[1mwandb\u001b[0m: Currently logged in as: \u001b[33mveb-101\u001b[0m (use `wandb login --relogin` to force relogin)\n"
          ],
          "name": "stderr"
        },
        {
          "output_type": "display_data",
          "data": {
            "text/html": [
              "\n",
              "                Tracking run with wandb version 0.10.18<br/>\n",
              "                Syncing run <strong style=\"color:#cdcd00\">ethereal-wildflower-12</strong> to <a href=\"https://wandb.ai\" target=\"_blank\">Weights & Biases</a> <a href=\"https://docs.wandb.com/integrations/jupyter.html\" target=\"_blank\">(Documentation)</a>.<br/>\n",
              "                Project page: <a href=\"https://wandb.ai/veb-101/image-colorization\" target=\"_blank\">https://wandb.ai/veb-101/image-colorization</a><br/>\n",
              "                Run page: <a href=\"https://wandb.ai/veb-101/image-colorization/runs/33eic9uk\" target=\"_blank\">https://wandb.ai/veb-101/image-colorization/runs/33eic9uk</a><br/>\n",
              "                Run data is saved locally in <code>/content/wandb/run-20210213_115837-33eic9uk</code><br/><br/>\n",
              "            "
            ],
            "text/plain": [
              "<IPython.core.display.HTML object>"
            ]
          },
          "metadata": {
            "tags": []
          }
        }
      ]
    },
    {
      "cell_type": "code",
      "metadata": {
        "cellView": "form",
        "id": "JFl7Zi7EuaA-"
      },
      "source": [
        "#@title reload\r\n",
        "import importlib\r\n",
        "import trainer\r\n",
        "import model\r\n",
        "import utils\r\n",
        "import os\r\n",
        "\r\n",
        "\r\n",
        "importlib.reload(model)\r\n",
        "importlib.reload(trainer)\r\n",
        "\r\n",
        "from trainer import MainModel\r\n",
        "from model import Generator_Res_Unet, Discriminator, Generator_Unet\r\n",
        "\r\n"
      ],
      "execution_count": 28,
      "outputs": []
    },
    {
      "cell_type": "code",
      "metadata": {
        "id": "9_SS-jHsx1bA",
        "cellView": "form"
      },
      "source": [
        "#@title Load Model\n",
        "model_type = \"Generator_Unet\" #@param [\"Generator_Res_Unet-pretrained\", \"Generator_Res_Unet-new\", \"Generator_Unet\"]\n",
        "\n",
        "if model_type == \"Generator_Res_Unet-pretrained\":\n",
        "    opt=1\n",
        "    model = Generator_Res_Unet()\n",
        "    pretrained = True\n",
        "\n",
        "elif model_type == \"Generator_Res_Unet-new\":\n",
        "    opt=2\n",
        "    model = Generator_Res_Unet()\n",
        "    pretrained = False\n",
        "elif model_type == \"Generator_Unet\":\n",
        "    opt=3\n",
        "    model_3 = Generator_Unet()\n",
        "\n",
        "\n",
        "def load_model(config, ckpt_number=-1, device=None, prefix=\"warm_\"):\n",
        "    \n",
        "    lr_G = config[\"lr_G\"]\n",
        "    lr_D = config[\"lr_D\"]\n",
        "    beta1 = config[\"beta1\"]\n",
        "    beta2 = config[\"beta2\"]\n",
        "    load_previous = config[\"load_previous\"]\n",
        "    \n",
        "    epoch = 0\n",
        "    if opt in (1, 2,):\n",
        "        net_G = init_model(model.get_model(pretrained=pretrained), device)\n",
        "    else:\n",
        "        net_G = init_model(model_3, device)\n",
        "\n",
        "    net_D = init_model(Discriminator(input_channels=3), device)\n",
        "    scaler_G = GradScaler()\n",
        "    scaler_D = GradScaler()\n",
        "\n",
        "    opt_G = optim.Adam(net_G.parameters(), lr=lr_G, betas=(beta1, beta2))\n",
        "    opt_D = optim.Adam(net_D.parameters(), lr=lr_D, betas=(beta1, beta2))\n",
        "\n",
        "    drive_path = r\"/content/drive/MyDrive/Project-Colorisation\"\n",
        "    print(f\"[*] Finding checkpoint {ckpt_number} in {drive_path}\")\n",
        "\n",
        "    checkpoint_file = f\"{prefix}checkpoint_{ckpt_number}.tar\"\n",
        "    checkpoint_path = os.path.join(drive_path, checkpoint_file)\n",
        "\n",
        "    if not os.path.exists(checkpoint_path):\n",
        "        print(f\"[!] No checkpoint for epoch {ckpt_number}\")\n",
        "    else:    \n",
        "        checkpoint = torch.load(checkpoint_path)\n",
        "\n",
        "        epoch = checkpoint[\"epoch\"]\n",
        "\n",
        "        net_G.load_state_dict(checkpoint[f\"net_G\"])\n",
        "        print(\"Generator weight loaded\")\n",
        "\n",
        "        try:\n",
        "            net_D.load_state_dict(checkpoint[f\"net_D\"])\n",
        "            print(\"Discriminator weights loaded.\")\n",
        "        except:\n",
        "            pass\n",
        "\n",
        "        if load_previous:\n",
        "            try:  \n",
        "                opt_D.load_state_dict(checkpoint[f\"opt_D\"])\n",
        "                print(\"Discriminator optimizer loaded.\")\n",
        "            except:\n",
        "                pass\n",
        "\n",
        "            opt_G.load_state_dict(checkpoint[f\"opt_G\"])\n",
        "            print(\"Optimizer's state loaded\")\n",
        "            \n",
        "            try:\n",
        "                scaler_G.load_state_dict(checkpoint[f\"scaler_G\"])\n",
        "                print(\"Grad Scaler - Generator loaded\")\n",
        "                scaler_D.load_state_dict(checkpoint[f\"scaler_D\"])\n",
        "                print(\"Grad Scaler - Discriminator loaded\")\n",
        "            except Exception as e:\n",
        "                pass\n",
        "        \n",
        "\n",
        "    return_ = {\n",
        "        \"epoch\": epoch,\n",
        "        \"net_G\": net_G,\n",
        "        \"opt_G\": opt_G,\n",
        "        \"scaler_G\": scaler_G,\n",
        "        \"net_D\": net_D,\n",
        "        \"scaler_D\": scaler_D,\n",
        "        \"opt_D\": opt_D\n",
        "    }\n",
        "    return return_"
      ],
      "execution_count": 29,
      "outputs": []
    },
    {
      "cell_type": "markdown",
      "metadata": {
        "id": "XDToMjNCYejs"
      },
      "source": [
        "## Warmup generator"
      ]
    },
    {
      "cell_type": "code",
      "metadata": {
        "id": "OulVfPHbx1bG",
        "colab": {
          "base_uri": "https://localhost:8080/",
          "height": 365,
          "referenced_widgets": [
            "82710c8650aa4a1b805443511ebb5de7",
            "e1ba00aa88bf43469e4e78f91869da09",
            "c76027161cfb40bfa79f0fe65aa93170",
            "5a438665af9c449d8fe6a3cfbcc79179",
            "85ac13715d1a45d7bcd2a76ed53d7245",
            "7e055ac5608a46f1b281b18240d79036",
            "e36ef90c15eb4d4f85e92dcf1f125536",
            "9fda02de3632402ea44beebe24c107e6",
            "0a4ade0c3d2a485299a6361c2d43d54e",
            "cca689e5580c40ba913d8c68fd789136",
            "69789c3066574b4fa243f554227a0138",
            "ac072bc1e4ac45938e3718cd289b4845",
            "c7a187e4eb8543a8a03f80e6cf362da3",
            "acf80c58f59c40eb924fb86a8b73be1a",
            "8c147e34e713441488ecedec7e6ee5c3",
            "830846e5409e4a57b330549559f33f5f",
            "3361701d9529437ebe2359b4301881db",
            "9171b5142c3744899d9e1bfe7aff805b",
            "5edb76db498341df8fabccf8124e2f0c",
            "bbddab63e1cc4900be6685cb14fdd194",
            "1c51772c47874f988f91f7ca29cfeb22",
            "2a1aa21fff6c46efa54ecadc8567f169",
            "3754421893ce4fc3b24711ec4480fd05",
            "92628b48f1a94f8d8f6da507febfaefc"
          ]
        },
        "outputId": "9f711716-20ca-4d16-8865-bbf299242222"
      },
      "source": [
        "# load previous epoch optimizers and grad scaler\r\n",
        "config[\"load_previous\"] = False # First run\r\n",
        "# config[\"load_previous\"] = True # uncomment for subsequent runs of same Type\r\n",
        "\r\n",
        "load_ckpt = 0\r\n",
        "gen_load = load_model(config, ckpt_number=load_ckpt, device=device, prefix=\"warm_\")\r\n",
        "\r\n",
        "net_G = gen_load[\"net_G\"]\r\n",
        "scaler_G = gen_load[\"scaler_G\"]\r\n",
        "opt_G = gen_load[\"opt_G\"]\r\n",
        "last_epoch = gen_load[\"epoch\"]\r\n",
        "\r\n",
        "criterion = nn.L1Loss()     \r\n",
        "criterion.to(device)\r\n",
        "start_epoch = last_epoch + 1\r\n",
        "epochs = 110\r\n",
        "\r\n",
        "# from torchsummary import summary\r\n",
        "# summary(net_G.to(\"cuda\"), (1, 128, 128))\r\n",
        "\r\n",
        "pretrain_generator(train_dl, valid_dl, net_G, scaler_G, opt_G, criterion, start_epoch, epochs, device=device)"
      ],
      "execution_count": null,
      "outputs": [
        {
          "output_type": "stream",
          "text": [
            "model initialized with norm initialization\n",
            "model initialized with norm initialization\n",
            "[*] Finding checkpoint 0 in /content/drive/MyDrive/Project-Colorisation\n",
            "[!] No checkpoint for epoch 0\n"
          ],
          "name": "stdout"
        },
        {
          "output_type": "display_data",
          "data": {
            "application/vnd.jupyter.widget-view+json": {
              "model_id": "82710c8650aa4a1b805443511ebb5de7",
              "version_minor": 0,
              "version_major": 2
            },
            "text/plain": [
              "HBox(children=(FloatProgress(value=0.0, description='Epoch: [1/110]', max=282.0, style=ProgressStyle(descripti…"
            ]
          },
          "metadata": {
            "tags": []
          }
        },
        {
          "output_type": "stream",
          "text": [
            "Iteration:[1/282] L1 Loss: [0.08666]\n",
            "Iteration:[142/282] L1 Loss: [0.08788]\n",
            "Iteration:[282/282] L1 Loss: [0.08693]\n",
            "\n",
            "Validation PSNR: 20.415, SSIM: 0.9095\n"
          ],
          "name": "stdout"
        },
        {
          "output_type": "display_data",
          "data": {
            "application/vnd.jupyter.widget-view+json": {
              "model_id": "0a4ade0c3d2a485299a6361c2d43d54e",
              "version_minor": 0,
              "version_major": 2
            },
            "text/plain": [
              "HBox(children=(FloatProgress(value=0.0, description='Epoch: [2/110]', max=282.0, style=ProgressStyle(descripti…"
            ]
          },
          "metadata": {
            "tags": []
          }
        },
        {
          "output_type": "stream",
          "text": [
            "Iteration:[1/282] L1 Loss: [0.10311]\n",
            "Iteration:[142/282] L1 Loss: [0.08453]\n",
            "Iteration:[282/282] L1 Loss: [0.08407]\n",
            "\n",
            "Validation PSNR: 20.779, SSIM: 0.91125\n"
          ],
          "name": "stdout"
        },
        {
          "output_type": "display_data",
          "data": {
            "application/vnd.jupyter.widget-view+json": {
              "model_id": "3361701d9529437ebe2359b4301881db",
              "version_minor": 0,
              "version_major": 2
            },
            "text/plain": [
              "HBox(children=(FloatProgress(value=0.0, description='Epoch: [3/110]', max=282.0, style=ProgressStyle(descripti…"
            ]
          },
          "metadata": {
            "tags": []
          }
        },
        {
          "output_type": "stream",
          "text": [
            "Iteration:[1/282] L1 Loss: [0.09160]\n"
          ],
          "name": "stdout"
        }
      ]
    },
    {
      "cell_type": "code",
      "metadata": {
        "id": "80MRtwWin_J0",
        "colab": {
          "base_uri": "https://localhost:8080/",
          "height": 566,
          "referenced_widgets": [
            "f9c13d4e02e945b3bd44602e298a6cc1",
            "a48a07ef982843aa91fd7a264f7b2f81",
            "e966fb5f511f49068ceed9556893eb4f",
            "840b0ce708694db5be54c2a8b9d35560",
            "54033263f5874887bbe253c4ceb14a43",
            "89924effe9a14c3f819937c2c6250e9a",
            "4321e07b726242868ae5d118875dd9ee",
            "8bb6282970a84b22a778b68dfd80217a"
          ]
        },
        "outputId": "2aef9e39-fb23-444d-ec89-eef82b8e5525"
      },
      "source": [
        "run.finish()"
      ],
      "execution_count": 17,
      "outputs": [
        {
          "output_type": "display_data",
          "data": {
            "text/html": [
              "<br/>Waiting for W&B process to finish, PID 1094<br/>Program ended successfully."
            ],
            "text/plain": [
              "<IPython.core.display.HTML object>"
            ]
          },
          "metadata": {
            "tags": []
          }
        },
        {
          "output_type": "display_data",
          "data": {
            "application/vnd.jupyter.widget-view+json": {
              "model_id": "f9c13d4e02e945b3bd44602e298a6cc1",
              "version_minor": 0,
              "version_major": 2
            },
            "text/plain": [
              "VBox(children=(Label(value=' 7.40MB of 7.40MB uploaded (0.00MB deduped)\\r'), FloatProgress(value=1.0, max=1.0)…"
            ]
          },
          "metadata": {
            "tags": []
          }
        },
        {
          "output_type": "display_data",
          "data": {
            "text/html": [
              "Find user logs for this run at: <code>/content/wandb/run-20210213_114911-39lqguhd/logs/debug.log</code>"
            ],
            "text/plain": [
              "<IPython.core.display.HTML object>"
            ]
          },
          "metadata": {
            "tags": []
          }
        },
        {
          "output_type": "display_data",
          "data": {
            "text/html": [
              "Find internal logs for this run at: <code>/content/wandb/run-20210213_114911-39lqguhd/logs/debug-internal.log</code>"
            ],
            "text/plain": [
              "<IPython.core.display.HTML object>"
            ]
          },
          "metadata": {
            "tags": []
          }
        },
        {
          "output_type": "display_data",
          "data": {
            "text/html": [
              "<h3>Run summary:</h3><br/><style>\n",
              "    table.wandb td:nth-child(1) { padding: 0 10px; text-align: right }\n",
              "    </style><table class=\"wandb\">\n",
              "<tr><td>epoch</td><td>5</td></tr><tr><td>train_loss</td><td>0.0846</td></tr><tr><td>_runtime</td><td>137</td></tr><tr><td>_timestamp</td><td>1613217088</td></tr><tr><td>_step</td><td>14</td></tr><tr><td>valid_PSNR</td><td>20.05325</td></tr><tr><td>valid_SSIM</td><td>0.9085</td></tr></table>"
            ],
            "text/plain": [
              "<IPython.core.display.HTML object>"
            ]
          },
          "metadata": {
            "tags": []
          }
        },
        {
          "output_type": "display_data",
          "data": {
            "text/html": [
              "<h3>Run history:</h3><br/><style>\n",
              "    table.wandb td:nth-child(1) { padding: 0 10px; text-align: right }\n",
              "    </style><table class=\"wandb\">\n",
              "<tr><td>epoch</td><td>▁▁▃▃▅▅▆▆██</td></tr><tr><td>train_loss</td><td>███▁▁</td></tr><tr><td>_runtime</td><td>▁▁▁▃▃▃▄▅▅▆▆▆███</td></tr><tr><td>_timestamp</td><td>▁▁▁▃▃▃▄▅▅▆▆▆███</td></tr><tr><td>_step</td><td>▁▁▂▃▃▃▄▅▅▅▆▇▇▇█</td></tr><tr><td>valid_PSNR</td><td>▁▂▃▅█</td></tr><tr><td>valid_SSIM</td><td>▁▁▁██</td></tr></table><br/>"
            ],
            "text/plain": [
              "<IPython.core.display.HTML object>"
            ]
          },
          "metadata": {
            "tags": []
          }
        },
        {
          "output_type": "display_data",
          "data": {
            "text/html": [
              "Synced 5 W&B file(s), 5 media file(s), 0 artifact file(s) and 0 other file(s)"
            ],
            "text/plain": [
              "<IPython.core.display.HTML object>"
            ]
          },
          "metadata": {
            "tags": []
          }
        },
        {
          "output_type": "display_data",
          "data": {
            "text/html": [
              "\n",
              "                    <br/>Synced <strong style=\"color:#cdcd00\">restful-pyramid-8</strong>: <a href=\"https://wandb.ai/veb-101/image-colorization/runs/39lqguhd\" target=\"_blank\">https://wandb.ai/veb-101/image-colorization/runs/39lqguhd</a><br/>\n",
              "                "
            ],
            "text/plain": [
              "<IPython.core.display.HTML object>"
            ]
          },
          "metadata": {
            "tags": []
          }
        }
      ]
    },
    {
      "cell_type": "markdown",
      "metadata": {
        "id": "pfA3euCIYi_f"
      },
      "source": [
        "## Train GAN"
      ]
    },
    {
      "cell_type": "code",
      "metadata": {
        "id": "Z5EKjQjtx1bH"
      },
      "source": [
        "# train Gan model\n",
        "\n",
        "config[\"lr_G\"] = 2e-4\n",
        "config[\"lr_D\"] = 4e-4\n",
        "torch.cuda.empty_cache()\n",
        "gc.collect()\n",
        "\n",
        "# load previous epoch optimizers and grad scaler\n",
        "config[\"load_previous\"] = False # First run\n",
        "# config[\"load_previous\"] = True # uncomment for subsequent runs of same Type\n",
        "\n",
        "load_ckpt = 106\n",
        "gan_load = load_model(config, ckpt_number=load_ckpt, device=device, prefix=\"warm_\")\n",
        "\n",
        "\n",
        "# pretrained Generator \n",
        "net_G = gan_load[\"net_G\"]\n",
        "scaler_G = gan_load[\"scaler_G\"]\n",
        "opt_G = gan_load[\"opt_G\"]\n",
        "\n",
        "# newly Discriminator if load_previous = False else previously trained\n",
        "net_D = gan_load[\"net_D\"]\n",
        "scaler_D = gan_load[\"scaler_D\"]\n",
        "opt_D = gan_load[\"opt_D\"]\n",
        "\n",
        "\n",
        "last_epoch = gan_load[\"epoch\"] \n",
        "\n",
        "if not config[\"load_previous\"]:\n",
        "    last_epoch = 0\n",
        "\n",
        "start_epoch = last_epoch + 1\n",
        "epochs = 400\n",
        "\n",
        "model = MainModel(net_G=net_G,\n",
        "                  net_D=net_D,\n",
        "                  scaler_G=scaler_G,\n",
        "                  scaler_D=scaler_D,\n",
        "                  opt_G=opt_G,\n",
        "                  opt_D=opt_D,\n",
        "                  config=config,\n",
        "                  device=device)\n",
        "\n",
        "train_model(model, train_dl, valid_dl, start_epoch, epochs)"
      ],
      "execution_count": null,
      "outputs": []
    },
    {
      "cell_type": "markdown",
      "metadata": {
        "id": "gwMfoD5EYn0M"
      },
      "source": [
        "## Random"
      ]
    },
    {
      "cell_type": "markdown",
      "metadata": {
        "id": "PqpSP9YK0Tx9"
      },
      "source": [
        "\r\n",
        "Run js function in console\r\n",
        "```\r\n",
        "function KeepClicking(){\r\n",
        "console.log(\"Clicking\");\r\n",
        "document.querySelector(\"colab-connect-button\").click()\r\n",
        "}\r\n",
        "setInterval(KeepClicking,300000)\r\n",
        "```\r\n",
        "\r\n"
      ]
    },
    {
      "cell_type": "code",
      "metadata": {
        "id": "f9ibd-q2KYqx"
      },
      "source": [
        "# !rm -rf /content/drive/MyDrive/Project-Colorisation/*tar\r\n",
        "# !rm -rf *tar\r\n",
        "# !rm -rf /content/gan_train\r\n",
        "# !rm -rf /content/warmup_train"
      ],
      "execution_count": null,
      "outputs": []
    }
  ]
}